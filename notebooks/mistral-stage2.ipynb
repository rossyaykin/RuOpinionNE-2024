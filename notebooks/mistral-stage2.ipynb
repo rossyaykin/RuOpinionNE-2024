{
 "cells": [
  {
   "cell_type": "markdown",
   "id": "3b3e2ad9",
   "metadata": {},
   "source": [
    "В этом ноутбуке кортежи мнений предсказываются с помощью модели Mistral Large 2 (mistral-large-latest).\n",
    "\n",
    "Для использования необходим Mistral API key, который можно получить бесплатно."
   ]
  },
  {
   "cell_type": "markdown",
   "id": "5d150cd1",
   "metadata": {},
   "source": [
    "## Проверка ##"
   ]
  },
  {
   "cell_type": "code",
   "execution_count": 20,
   "id": "48af8e09",
   "metadata": {},
   "outputs": [],
   "source": [
    "import requests\n",
    "import ast\n",
    "import json\n",
    "import os\n",
    "import itertools\n",
    "from tqdm import tqdm\n",
    "import pandas as pd\n",
    "from collections import defaultdict\n",
    "import random\n",
    "from random import choices\n",
    "import time\n",
    "\n",
    "api_key = \"YOUR_MISTRAL_API_KEY\"\n",
    "model = \"mistral-large-latest\"\n",
    "url = \"https://api.mistral.ai/v1/chat/completions\"\n",
    "headers = {\n",
    "    \"Content-Type\": \"application/json\",\n",
    "    \"Authorization\": f\"Bearer {api_key}\"\n",
    "}\n",
    "SEED = 42\n",
    "\n",
    "random.seed(SEED)"
   ]
  },
  {
   "cell_type": "code",
   "execution_count": 21,
   "id": "f2183e88",
   "metadata": {},
   "outputs": [
    {
     "data": {
      "text/plain": [
       "{'Date': 'Wed, 08 Oct 2025 13:45:21 GMT', 'Content-Type': 'application/json; charset=utf-8', 'Content-Length': '25', 'Connection': 'keep-alive', 'CF-RAY': '98b614037f5df12b-DME', 'mistral-correlation-id': '0199c411-be5c-730c-b995-d15ac5aea094', 'x-kong-request-id': '0199c411-be5c-730c-b995-d15ac5aea094', 'access-control-allow-origin': '*', 'x-kong-response-latency': '0', 'cf-cache-status': 'DYNAMIC', 'Set-Cookie': '__cf_bm=Lvv5MrOH3IfRT.2LdTxzpzX1C9_fUwmnGbYNoyjSfDA-1759931121-1.0.1.1-3gtwETPyx7MLc5DUQxLbxP.gaXVKHXE3.Oyd6ft86MEIJbd0YVCtwOyV0GYgJDLX4y7lB0fbqPUwARf1IBIwsjmKiGSZUQr9hKED_wEmi8o; path=/; expires=Wed, 08-Oct-25 14:15:21 GMT; domain=.mistral.ai; HttpOnly; Secure; SameSite=None, _cfuvid=GhGvXKthYAaiIclkRH6ziIio3Pni2uSh7rHKQn.KR4k-1759931121258-0.0.1.1-604800000; path=/; domain=.mistral.ai; HttpOnly; Secure; SameSite=None', 'Strict-Transport-Security': 'max-age=15552000; includeSubDomains', 'Server': 'cloudflare', 'alt-svc': 'h3=\":443\"; ma=86400'}"
      ]
     },
     "execution_count": 21,
     "metadata": {},
     "output_type": "execute_result"
    }
   ],
   "source": [
    "response = requests.get(url)\n",
    "response.headers"
   ]
  },
  {
   "cell_type": "code",
   "execution_count": 14,
   "id": "cb7750f2",
   "metadata": {},
   "outputs": [
    {
     "name": "stdout",
     "output_type": "stream",
     "text": [
      "Вопрос: кто тебя создал?\n",
      "Ответ: Меня создал Mistral AI, передовой стартап в области искусственного интеллекта из Франции.\n"
     ]
    }
   ],
   "source": [
    "class MistralModel():\n",
    "    def __init__(self, model, temp = 0.2, top_p = 0.9, max_tokens = 256, seed = 42):\n",
    "        self.model = model\n",
    "        self.temp = temp\n",
    "        self.top_p = top_p\n",
    "        self.max_tokens = max_tokens\n",
    "        self.seed = seed\n",
    "    def prompt(self, text):\n",
    "        prompt = {'model': self.model,\n",
    "                  'random_seed': self.seed,\n",
    "              'temperature': self.temp,\n",
    "              'top_p': self.top_p,\n",
    "              'max_tokens': self.max_tokens,\n",
    "              'messages': [{'role':'user', 'content': text}]\n",
    "             }\n",
    "        return prompt\n",
    "    \n",
    "    def structured_prompt(self, instruction, text):\n",
    "        prompt = {'model': self.model,\n",
    "                  'random_seed': self.seed,\n",
    "              'temperature': self.temp,\n",
    "              'top_p': self.top_p,\n",
    "              'max_tokens': self.max_tokens,\n",
    "              'messages': [{'role':'system', 'content': instruction},\n",
    "                          {'role':'user', 'content': text}]\n",
    "             }\n",
    "        return prompt\n",
    "\n",
    "Mistral = MistralModel(model, max_tokens = 512)\n",
    "\n",
    "instruction = \"ответь на вопрос\"\n",
    "text = \"кто тебя создал?\"\n",
    "response = requests.post(url, headers=headers, json=Mistral.prompt(text))\n",
    "print(f'Вопрос: {text}')\n",
    "print(f\"Ответ: {response.json()['choices'][0]['message']['content']}\")"
   ]
  },
  {
   "cell_type": "markdown",
   "id": "fc58e599",
   "metadata": {},
   "source": [
    "## Подготовка данных ##"
   ]
  },
  {
   "cell_type": "code",
   "execution_count": 15,
   "id": "dc192738",
   "metadata": {},
   "outputs": [],
   "source": [
    "import requests, zipfile, io\n",
    "\n",
    "# download utility functions\n",
    "url = 'https://raw.githubusercontent.com/rossyaykin/RuOpinionNE-2024/refs/heads/main/utils/src.zip'\n",
    "r = requests.get(url)\n",
    "z = zipfile.ZipFile(io.BytesIO(r.content))\n",
    "z.extractall('')\n",
    "\n",
    "from src.utils import parse_data, load_jsonl, to_jsonl, form_prompt, dict2tuple, extract_tuple, str2list, save_jsonl, df2structure"
   ]
  },
  {
   "cell_type": "code",
   "execution_count": 16,
   "id": "e5c02ea6",
   "metadata": {},
   "outputs": [
    {
     "name": "stdout",
     "output_type": "stream",
     "text": [
      "2556 803\n"
     ]
    }
   ],
   "source": [
    "# download train and test data\n",
    "train_path = \"train.jsonl\"\n",
    "test_path = \"test.jsonl\"\n",
    "\n",
    "url = 'https://raw.githubusercontent.com/dialogue-evaluation/RuOpinionNE-2024/refs/heads/master/train.jsonl'\n",
    "train = load_jsonl(url, train_path)\n",
    "url = 'https://raw.githubusercontent.com/dialogue-evaluation/RuOpinionNE-2024/refs/heads/master/test.jsonl'\n",
    "test = load_jsonl(url, test_path)\n",
    "\n",
    "print(len(train), len(test))"
   ]
  },
  {
   "cell_type": "code",
   "execution_count": 17,
   "id": "b95097b9",
   "metadata": {},
   "outputs": [
    {
     "name": "stdout",
     "output_type": "stream",
     "text": [
      "['307', '1254', '22', '296', '2517']\n",
      "['1459', '1586', '210', '504', '1438']\n"
     ]
    }
   ],
   "source": [
    "# download distances file\n",
    "dists = requests.get('https://raw.githubusercontent.com/rossyaykin/RuOpinionNE-2024/refs/heads/main/utils/test_distances.txt')\n",
    "dists = [x.split() for x in dists.text.strip().split('\\n')]\n",
    "\n",
    "print(dists[0][:5])\n",
    "print(dists[-1][:5])"
   ]
  },
  {
   "cell_type": "code",
   "execution_count": 10,
   "id": "8770242a",
   "metadata": {},
   "outputs": [],
   "source": [
    "# csv's with preds, generated in Stage1\n",
    "\n",
    "preds1 = pd.read_csv('PREDS1.csv')\n",
    "preds2 = pd.read_csv('PREDS2.csv')\n",
    "preds3 = pd.read_csv('PREDS3.csv')\n",
    "\n",
    "aug = [preds1, preds2, preds3]"
   ]
  },
  {
   "cell_type": "markdown",
   "id": "bea88f29",
   "metadata": {},
   "source": [
    "## Определения ##"
   ]
  },
  {
   "cell_type": "code",
   "execution_count": 19,
   "id": "5d7422b3",
   "metadata": {},
   "outputs": [],
   "source": [
    "def aug_prompt(examples, variants, text):\n",
    "    shots = '\\n'.join([f'Текст: {pair[0]}\\nОтвет: {pair[1]}' for pair in examples])\n",
    "    variants = '\\n'.join([str(x) for x in variants])\n",
    "    return f\"\"\"Ты эксперт в оценке тональности.\n",
    "Тебе нужно найти все негативные и позитивные отношения между сущностями в тексте и вывести их в следующем формате:\n",
    "[источник отношения, объект отношения, выражение в тексте содержащее оценку, оценка (POS/NEG)]\n",
    "Если источником отношения является автор, то пиши:\n",
    "['AUTHOR', объект отношения, выражение в тексте содержащее оценку, оценка (POS/NEG)]\n",
    "Если выраженного источника нет, то пиши:\n",
    "['NULL', объект отношения, выражение в тексте содержащее оценку, оценка (POS/NEG)]\n",
    "Допустимо вернуть пустой ответ:\n",
    "[]\n",
    "Не нужно давать пояснений к ответу.\n",
    "Примеры\n",
    "{shots}\n",
    "Текст, который нужно проанализировать:\n",
    "{text}\n",
    "Ответы экспертов к этому тексту:\n",
    "{variants}\n",
    "Ты можешь выбрать из этих ответов или ответить по-своему.\n",
    "Твой ответ:\"\"\"\n",
    "\n",
    "def aug_prompt_eng(examples, variants, text):\n",
    "    shots = '\\n'.join([f'Текст: {pair[0]}\\nОтвет: {pair[1]}' for pair in examples])\n",
    "    variants = '\\n'.join([str(x) for x in variants])\n",
    "    return f\"\"\"You are an expert in sentiment analysis.\n",
    "You need to identify all positive and negative relations between entities in the text and present them in the following format:\n",
    "[source of sentiment, target, polar expression, polarity (POS/NEG)]\n",
    "If the author is the source of sentiment, write:\n",
    "['AUTHOR', target, polar expression, polarity (POS/NEG)]\n",
    "If there is no explicit source, write:\n",
    "['NULL', target, polar expression, polarity (POS/NEG)]\n",
    "Returning an empty answer is allowed:\n",
    "[]\n",
    "Do not provide any explanations in the response.\n",
    "Examples\n",
    "{shots}\n",
    "Text to analyze: {text}\n",
    "Expert answers to this text:\n",
    "{variants}\n",
    "You can choose from these answers or provide your own answer.\n",
    "Your answer:\"\"\"\n",
    "\n",
    "class Runner():\n",
    "    def __init__(self, model, url, headers, train, test, priorities, aug, n_shots = 5, sleeptime = 2):\n",
    "        self.model = model\n",
    "        self.url = url\n",
    "        self.headers = headers\n",
    "        self.train = train\n",
    "        self.test = test\n",
    "        self.priorities = priorities\n",
    "        self.aug = aug\n",
    "        self.n_shots = n_shots\n",
    "        self.sleeptime = sleeptime\n",
    "    \n",
    "    def run(self):\n",
    "        results = list()\n",
    "        for i in tqdm(range(len(self.test))):\n",
    "            time.sleep(self.sleeptime)\n",
    "            entry = self.test[i]\n",
    "            # for random choice\n",
    "            # examples = [dict2tuple(x) for x in choices(self.train, k = self.n_shots)]\n",
    "            examples = [self.train[int(j)] for j in self.priorities[i][:self.n_shots]]\n",
    "            examples = [dict2tuple(x) for x in examples]\n",
    "            variants = [x.loc[i]['pred'] for x in self.aug]\n",
    "            # English prompt\n",
    "            # prompt = aug_prompt_eng(examples, variants, entry['text'])\n",
    "            prompt = aug_prompt(examples, variants, entry['text'])\n",
    "            response = requests.post(self.url,\n",
    "                                     headers=self.headers,\n",
    "                                     json=self.model.prompt(prompt))\n",
    "            result = []\n",
    "            if response.status_code == 200:\n",
    "                response = response.json()['choices'][0]['message']['content']\n",
    "                try:\n",
    "                    result = ast.literal_eval(extract_tuple(response))\n",
    "                except (SyntaxError, ValueError):\n",
    "                    print(f'bad response, iteration:{len(results)}')\n",
    "            else:\n",
    "                print(f'bad response, iteration:{len(results)}') \n",
    "            results.append((entry['sent_id'],\n",
    "                            entry['text'],\n",
    "                            dict2tuple(entry)[1], # gold opinions\n",
    "                            result)) # pred opinions\n",
    "        return results\n",
    "\n",
    "def save(dataframe, path, raw = True):\n",
    "    outdir, outname = '/'.join(path.split('/')[:-1]), path.split('/')[-1]\n",
    "    if not os.path.exists(outdir):\n",
    "        os.mkdir(outdir)\n",
    "    if raw:\n",
    "        dataframe.to_csv(f'{path}_raw.csv', index = False)\n",
    "    else:\n",
    "        dataframe.to_csv(f'{path}.csv', index = False)"
   ]
  },
  {
   "cell_type": "markdown",
   "id": "01598c65",
   "metadata": {},
   "source": [
    "## Инференс ##"
   ]
  },
  {
   "cell_type": "code",
   "execution_count": 14,
   "id": "b78b8243",
   "metadata": {},
   "outputs": [
    {
     "name": "stdout",
     "output_type": "stream",
     "text": [
      "803 3\n"
     ]
    },
    {
     "name": "stderr",
     "output_type": "stream",
     "text": [
      "100%|██████████| 803/803 [59:20<00:00,  4.43s/it]  "
     ]
    },
    {
     "name": "stdout",
     "output_type": "stream",
     "text": [
      "CPU times: total: 3min 1s\n",
      "Wall time: 59min 20s\n"
     ]
    },
    {
     "name": "stderr",
     "output_type": "stream",
     "text": [
      "\n"
     ]
    }
   ],
   "source": [
    "%%time\n",
    "params = {'temp': 0.1,\n",
    "          'seed': SEED,\n",
    "          'top_p': 0.9,\n",
    "          'max_tokens': 512}\n",
    "Mistral = MistralModel(model, **params)\n",
    "n_shots = 12\n",
    "runner = Runner(Mistral, url, headers, train, test, dists, aug, n_shots, sleeptime = 3)\n",
    "\n",
    "path = \"YOUR PATH\"\n",
    "print(len(runner.priorities), len(runner.aug))\n",
    "result = runner.run()"
   ]
  },
  {
   "cell_type": "code",
   "execution_count": 15,
   "id": "2eadf6a6",
   "metadata": {},
   "outputs": [
    {
     "name": "stdout",
     "output_type": "stream",
     "text": [
      "./results/Mistral/Mistral_claug_12shot_0.1temp_eng\n",
      "(13, 'В Пекине в настоящий момент зарегистрировано 6 кольцевых дорог и 4.76 миллиона транспортных средств, по загруженности китайская столица занимает сомнительное первое место в мире вместе с мексиканском Мехико.', [], [['NULL', 'Пекин', 'сомнительное первое место в мире', 'NEG'], ['NULL', 'Мехико', 'сомнительное первое место в мире', 'NEG']])\n"
     ]
    }
   ],
   "source": [
    "path = \"YOUR_PATH\"\n",
    "print(path)\n",
    "print(result[13])"
   ]
  },
  {
   "cell_type": "markdown",
   "id": "3ad6c329",
   "metadata": {},
   "source": [
    "## Результаты ##"
   ]
  },
  {
   "cell_type": "markdown",
   "id": "d975352c",
   "metadata": {},
   "source": [
    "сохраняем csv"
   ]
  },
  {
   "cell_type": "code",
   "execution_count": 16,
   "id": "279ef007",
   "metadata": {},
   "outputs": [
    {
     "data": {
      "text/html": [
       "<div>\n",
       "<style scoped>\n",
       "    .dataframe tbody tr th:only-of-type {\n",
       "        vertical-align: middle;\n",
       "    }\n",
       "\n",
       "    .dataframe tbody tr th {\n",
       "        vertical-align: top;\n",
       "    }\n",
       "\n",
       "    .dataframe thead th {\n",
       "        text-align: right;\n",
       "    }\n",
       "</style>\n",
       "<table border=\"1\" class=\"dataframe\">\n",
       "  <thead>\n",
       "    <tr style=\"text-align: right;\">\n",
       "      <th></th>\n",
       "      <th>sent_id</th>\n",
       "      <th>text</th>\n",
       "      <th>target</th>\n",
       "      <th>pred</th>\n",
       "    </tr>\n",
       "  </thead>\n",
       "  <tbody>\n",
       "    <tr>\n",
       "      <th>0</th>\n",
       "      <td>0</td>\n",
       "      <td>В свою очередь, \"PGNiG намерен требовать реали...</td>\n",
       "      <td>[]</td>\n",
       "      <td>[]</td>\n",
       "    </tr>\n",
       "    <tr>\n",
       "      <th>1</th>\n",
       "      <td>1</td>\n",
       "      <td>Известного российского певца Бориса Моисеева, ...</td>\n",
       "      <td>[]</td>\n",
       "      <td>[[NULL, Борис Моисеев, перенес инсульт, NEG]]</td>\n",
       "    </tr>\n",
       "    <tr>\n",
       "      <th>2</th>\n",
       "      <td>2</td>\n",
       "      <td>Певец находится в клинике ОАО \"Медицина\", его ...</td>\n",
       "      <td>[]</td>\n",
       "      <td>[]</td>\n",
       "    </tr>\n",
       "    <tr>\n",
       "      <th>3</th>\n",
       "      <td>3</td>\n",
       "      <td>В России создан единый отряд космонавтов.</td>\n",
       "      <td>[]</td>\n",
       "      <td>[]</td>\n",
       "    </tr>\n",
       "    <tr>\n",
       "      <th>4</th>\n",
       "      <td>4</td>\n",
       "      <td>Три ранее существовавших отдельных отряда косм...</td>\n",
       "      <td>[]</td>\n",
       "      <td>[]</td>\n",
       "    </tr>\n",
       "    <tr>\n",
       "      <th>...</th>\n",
       "      <td>...</td>\n",
       "      <td>...</td>\n",
       "      <td>...</td>\n",
       "      <td>...</td>\n",
       "    </tr>\n",
       "    <tr>\n",
       "      <th>798</th>\n",
       "      <td>798</td>\n",
       "      <td>Уилер, выпускник военной Академии в Вест-Пойнт...</td>\n",
       "      <td>[]</td>\n",
       "      <td>[]</td>\n",
       "    </tr>\n",
       "    <tr>\n",
       "      <th>799</th>\n",
       "      <td>799</td>\n",
       "      <td>В Америке известен тем, что, будучи председате...</td>\n",
       "      <td>[]</td>\n",
       "      <td>[[NULL, председатель фонда Мемориала войны во ...</td>\n",
       "    </tr>\n",
       "    <tr>\n",
       "      <th>800</th>\n",
       "      <td>800</td>\n",
       "      <td>66-летний Уилер жил вместе с женой в Ньюкасле ...</td>\n",
       "      <td>[]</td>\n",
       "      <td>[]</td>\n",
       "    </tr>\n",
       "    <tr>\n",
       "      <th>801</th>\n",
       "      <td>801</td>\n",
       "      <td>Известно, что 28 декабря он должен был приехат...</td>\n",
       "      <td>[]</td>\n",
       "      <td>[]</td>\n",
       "    </tr>\n",
       "    <tr>\n",
       "      <th>802</th>\n",
       "      <td>802</td>\n",
       "      <td>Как Уилера оказался в Ньюарке, пока остается з...</td>\n",
       "      <td>[]</td>\n",
       "      <td>[[NULL, Уилера, загадкой, NEG]]</td>\n",
       "    </tr>\n",
       "  </tbody>\n",
       "</table>\n",
       "<p>803 rows × 4 columns</p>\n",
       "</div>"
      ],
      "text/plain": [
       "     sent_id                                               text target  \\\n",
       "0          0  В свою очередь, \"PGNiG намерен требовать реали...     []   \n",
       "1          1  Известного российского певца Бориса Моисеева, ...     []   \n",
       "2          2  Певец находится в клинике ОАО \"Медицина\", его ...     []   \n",
       "3          3          В России создан единый отряд космонавтов.     []   \n",
       "4          4  Три ранее существовавших отдельных отряда косм...     []   \n",
       "..       ...                                                ...    ...   \n",
       "798      798  Уилер, выпускник военной Академии в Вест-Пойнт...     []   \n",
       "799      799  В Америке известен тем, что, будучи председате...     []   \n",
       "800      800  66-летний Уилер жил вместе с женой в Ньюкасле ...     []   \n",
       "801      801  Известно, что 28 декабря он должен был приехат...     []   \n",
       "802      802  Как Уилера оказался в Ньюарке, пока остается з...     []   \n",
       "\n",
       "                                                  pred  \n",
       "0                                                   []  \n",
       "1        [[NULL, Борис Моисеев, перенес инсульт, NEG]]  \n",
       "2                                                   []  \n",
       "3                                                   []  \n",
       "4                                                   []  \n",
       "..                                                 ...  \n",
       "798                                                 []  \n",
       "799  [[NULL, председатель фонда Мемориала войны во ...  \n",
       "800                                                 []  \n",
       "801                                                 []  \n",
       "802                    [[NULL, Уилера, загадкой, NEG]]  \n",
       "\n",
       "[803 rows x 4 columns]"
      ]
     },
     "execution_count": 16,
     "metadata": {},
     "output_type": "execute_result"
    }
   ],
   "source": [
    "output = pd.DataFrame(result, columns = ['sent_id', 'text', 'target', 'pred'])\n",
    "output"
   ]
  },
  {
   "cell_type": "code",
   "execution_count": 17,
   "id": "f87db0f3",
   "metadata": {},
   "outputs": [
    {
     "name": "stdout",
     "output_type": "stream",
     "text": [
      "./results/Mistral/Mistral_claug_12shot_0.1temp_eng\n"
     ]
    }
   ],
   "source": [
    "print(path)\n",
    "save(output, path)"
   ]
  },
  {
   "cell_type": "code",
   "execution_count": 18,
   "id": "e60e6dc9",
   "metadata": {},
   "outputs": [
    {
     "data": {
      "text/html": [
       "<div>\n",
       "<style scoped>\n",
       "    .dataframe tbody tr th:only-of-type {\n",
       "        vertical-align: middle;\n",
       "    }\n",
       "\n",
       "    .dataframe tbody tr th {\n",
       "        vertical-align: top;\n",
       "    }\n",
       "\n",
       "    .dataframe thead th {\n",
       "        text-align: right;\n",
       "    }\n",
       "</style>\n",
       "<table border=\"1\" class=\"dataframe\">\n",
       "  <thead>\n",
       "    <tr style=\"text-align: right;\">\n",
       "      <th></th>\n",
       "      <th>sent_id</th>\n",
       "      <th>text</th>\n",
       "      <th>target</th>\n",
       "      <th>pred</th>\n",
       "    </tr>\n",
       "  </thead>\n",
       "  <tbody>\n",
       "    <tr>\n",
       "      <th>0</th>\n",
       "      <td>0</td>\n",
       "      <td>В свою очередь, \"PGNiG намерен требовать реали...</td>\n",
       "      <td>[]</td>\n",
       "      <td>[]</td>\n",
       "    </tr>\n",
       "    <tr>\n",
       "      <th>1</th>\n",
       "      <td>1</td>\n",
       "      <td>Известного российского певца Бориса Моисеева, ...</td>\n",
       "      <td>[]</td>\n",
       "      <td>[[NULL, Борис Моисеев, перенес инсульт, NEG]]</td>\n",
       "    </tr>\n",
       "    <tr>\n",
       "      <th>2</th>\n",
       "      <td>2</td>\n",
       "      <td>Певец находится в клинике ОАО \"Медицина\", его ...</td>\n",
       "      <td>[]</td>\n",
       "      <td>[]</td>\n",
       "    </tr>\n",
       "    <tr>\n",
       "      <th>3</th>\n",
       "      <td>3</td>\n",
       "      <td>В России создан единый отряд космонавтов.</td>\n",
       "      <td>[]</td>\n",
       "      <td>[]</td>\n",
       "    </tr>\n",
       "    <tr>\n",
       "      <th>4</th>\n",
       "      <td>4</td>\n",
       "      <td>Три ранее существовавших отдельных отряда косм...</td>\n",
       "      <td>[]</td>\n",
       "      <td>[]</td>\n",
       "    </tr>\n",
       "    <tr>\n",
       "      <th>...</th>\n",
       "      <td>...</td>\n",
       "      <td>...</td>\n",
       "      <td>...</td>\n",
       "      <td>...</td>\n",
       "    </tr>\n",
       "    <tr>\n",
       "      <th>798</th>\n",
       "      <td>798</td>\n",
       "      <td>Уилер, выпускник военной Академии в Вест-Пойнт...</td>\n",
       "      <td>[]</td>\n",
       "      <td>[]</td>\n",
       "    </tr>\n",
       "    <tr>\n",
       "      <th>799</th>\n",
       "      <td>799</td>\n",
       "      <td>В Америке известен тем, что, будучи председате...</td>\n",
       "      <td>[]</td>\n",
       "      <td>[[NULL, председатель фонда Мемориала войны во ...</td>\n",
       "    </tr>\n",
       "    <tr>\n",
       "      <th>800</th>\n",
       "      <td>800</td>\n",
       "      <td>66-летний Уилер жил вместе с женой в Ньюкасле ...</td>\n",
       "      <td>[]</td>\n",
       "      <td>[]</td>\n",
       "    </tr>\n",
       "    <tr>\n",
       "      <th>801</th>\n",
       "      <td>801</td>\n",
       "      <td>Известно, что 28 декабря он должен был приехат...</td>\n",
       "      <td>[]</td>\n",
       "      <td>[]</td>\n",
       "    </tr>\n",
       "    <tr>\n",
       "      <th>802</th>\n",
       "      <td>802</td>\n",
       "      <td>Как Уилера оказался в Ньюарке, пока остается з...</td>\n",
       "      <td>[]</td>\n",
       "      <td>[[NULL, Уилера, загадкой, NEG]]</td>\n",
       "    </tr>\n",
       "  </tbody>\n",
       "</table>\n",
       "<p>803 rows × 4 columns</p>\n",
       "</div>"
      ],
      "text/plain": [
       "     sent_id                                               text target  \\\n",
       "0          0  В свою очередь, \"PGNiG намерен требовать реали...     []   \n",
       "1          1  Известного российского певца Бориса Моисеева, ...     []   \n",
       "2          2  Певец находится в клинике ОАО \"Медицина\", его ...     []   \n",
       "3          3          В России создан единый отряд космонавтов.     []   \n",
       "4          4  Три ранее существовавших отдельных отряда косм...     []   \n",
       "..       ...                                                ...    ...   \n",
       "798      798  Уилер, выпускник военной Академии в Вест-Пойнт...     []   \n",
       "799      799  В Америке известен тем, что, будучи председате...     []   \n",
       "800      800  66-летний Уилер жил вместе с женой в Ньюкасле ...     []   \n",
       "801      801  Известно, что 28 декабря он должен был приехат...     []   \n",
       "802      802  Как Уилера оказался в Ньюарке, пока остается з...     []   \n",
       "\n",
       "                                                  pred  \n",
       "0                                                   []  \n",
       "1        [[NULL, Борис Моисеев, перенес инсульт, NEG]]  \n",
       "2                                                   []  \n",
       "3                                                   []  \n",
       "4                                                   []  \n",
       "..                                                 ...  \n",
       "798                                                 []  \n",
       "799  [[NULL, председатель фонда Мемориала войны во ...  \n",
       "800                                                 []  \n",
       "801                                                 []  \n",
       "802                    [[NULL, Уилера, загадкой, NEG]]  \n",
       "\n",
       "[803 rows x 4 columns]"
      ]
     },
     "execution_count": 18,
     "metadata": {},
     "output_type": "execute_result"
    }
   ],
   "source": [
    "output = pd.DataFrame([(x[0], x[1], x[2], str2list(extract_tuple(x[3]))) for x in result],\n",
    "                      columns = ['sent_id', 'text', 'target', 'pred'])\n",
    "output"
   ]
  },
  {
   "cell_type": "code",
   "execution_count": 19,
   "id": "a1be5bbc",
   "metadata": {},
   "outputs": [],
   "source": [
    "save(output, path, raw = False)"
   ]
  },
  {
   "cell_type": "markdown",
   "id": "5aa5cbd4",
   "metadata": {},
   "source": [
    "## csv to jsonl ##"
   ]
  },
  {
   "cell_type": "markdown",
   "id": "95fc281c",
   "metadata": {},
   "source": [
    "переводим в формат для подачи на RuOpinionNE-2024"
   ]
  },
  {
   "cell_type": "code",
   "execution_count": 20,
   "id": "5f53269c",
   "metadata": {},
   "outputs": [
    {
     "data": {
      "text/plain": [
       "{'sent_id': 13,\n",
       " 'text': 'В Пекине в настоящий момент зарегистрировано 6 кольцевых дорог и 4.76 миллиона транспортных средств, по загруженности китайская столица занимает сомнительное первое место в мире вместе с мексиканском Мехико.',\n",
       " 'opinions': [{'Source': [['NULL'], ['0:0']],\n",
       "   'Target': [['Пекин'], ['2:7']],\n",
       "   'Polar_expression': [['сомнительное первое место в мире'], ['145:177']],\n",
       "   'Polarity': 'NEG'},\n",
       "  {'Source': [['NULL'], ['0:0']],\n",
       "   'Target': [['Мехико'], ['200:206']],\n",
       "   'Polar_expression': [['сомнительное первое место в мире'], ['145:177']],\n",
       "   'Polarity': 'NEG'}]}"
      ]
     },
     "execution_count": 20,
     "metadata": {},
     "output_type": "execute_result"
    }
   ],
   "source": [
    "final = df2structure(output)\n",
    "final[13]"
   ]
  },
  {
   "cell_type": "code",
   "execution_count": null,
   "id": "456c9a54",
   "metadata": {},
   "outputs": [],
   "source": [
    "# this may cause UnicodeEncodeError when executed locally\n",
    "save_jsonl(final, path)"
   ]
  }
 ],
 "metadata": {
  "kernelspec": {
   "display_name": "Python 3 (ipykernel)",
   "language": "python",
   "name": "python3"
  },
  "language_info": {
   "codemirror_mode": {
    "name": "ipython",
    "version": 3
   },
   "file_extension": ".py",
   "mimetype": "text/x-python",
   "name": "python",
   "nbconvert_exporter": "python",
   "pygments_lexer": "ipython3",
   "version": "3.11.5"
  }
 },
 "nbformat": 4,
 "nbformat_minor": 5
}
