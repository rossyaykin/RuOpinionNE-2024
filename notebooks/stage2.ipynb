{
 "cells": [
  {
   "cell_type": "markdown",
   "id": "fiJePm9_Pm6p",
   "metadata": {
    "id": "fiJePm9_Pm6p"
   },
   "source": [
    "В этом ноутбуке кортежи мнений предсказываются с помощью модели gpt-4o или любой другой модели, доступной через сервис **openrouter**.\n",
    "\n",
    "Здесь используется OpenAI API, также необходим Openrouter API key.\n",
    "\n",
    "Рекомендуется запускать из Google Colab, а не локально, во избежание региональных ограничений."
   ]
  },
  {
   "cell_type": "markdown",
   "id": "ddbd6f67",
   "metadata": {
    "id": "ddbd6f67"
   },
   "source": [
    "## Проверка (OpenAI API) ##"
   ]
  },
  {
   "cell_type": "code",
   "execution_count": 2,
   "id": "50694944",
   "metadata": {
    "colab": {
     "base_uri": "https://localhost:8080/"
    },
    "id": "50694944",
    "outputId": "358c7ca4-ef96-41dd-b795-e9987cdf6e4e"
   },
   "outputs": [
    {
     "name": "stdout",
     "output_type": "stream",
     "text": [
      "Меня создала компания OpenAI, и я основан на технологии GPT-4. Если есть ещё вопросы или что-то, в чём могу помочь, просто дай знать! 😊\n"
     ]
    }
   ],
   "source": [
    "import requests\n",
    "import ast\n",
    "import json\n",
    "import os\n",
    "import itertools\n",
    "from tqdm import tqdm\n",
    "import pandas as pd\n",
    "from collections import defaultdict\n",
    "import random\n",
    "from random import choices\n",
    "import time\n",
    "\n",
    "from openai import OpenAI\n",
    "\n",
    "OPENROUTER_API_KEY = \"YOUR_API_KEY\"\n",
    "\n",
    "# model = \"thedrummer/unslopnemo-12b:free\"\n",
    "# model = \"openai/gpt-4o-2024-11-20\"\n",
    "# model = \"x-ai/grok-beta\"\n",
    "model = \"deepseek/deepseek-chat\"\n",
    "url = \"https://openrouter.ai/api/v1\"\n",
    "\n",
    "SEED = 42\n",
    "random.seed(SEED)\n",
    "\n",
    "client = OpenAI(\n",
    "    api_key=OPENROUTER_API_KEY,\n",
    "    base_url=url,\n",
    ")\n",
    "\n",
    "params = {'temperature': 1.7,\n",
    "         'top_p': 0.9,\n",
    "         'max_tokens': 512,\n",
    "         'seed': SEED}\n",
    "\n",
    "completion = client.chat.completions.create(\n",
    "    model=model,\n",
    "    **params,\n",
    "    messages=[\n",
    "        {\"role\": \"system\", \"content\": \"Ответь на вопрос.\"},\n",
    "        {\"role\": \"user\", \"content\": \"Кто тебя создал?\"},\n",
    "    ],\n",
    ")\n",
    "\n",
    "print(completion.choices[0].message.content)"
   ]
  },
  {
   "cell_type": "markdown",
   "id": "28347cd0",
   "metadata": {
    "id": "28347cd0"
   },
   "source": [
    "## Подготовка данных ##"
   ]
  },
  {
   "cell_type": "code",
   "execution_count": 3,
   "id": "Y6lH6Xy1Jsk-",
   "metadata": {
    "id": "Y6lH6Xy1Jsk-"
   },
   "outputs": [],
   "source": [
    "import requests, zipfile, io\n",
    "\n",
    "# download utility functions\n",
    "url = 'https://raw.githubusercontent.com/rossyaykin/RuOpinionNE-2024/refs/heads/main/utils/src.zip'\n",
    "r = requests.get(url)\n",
    "z = zipfile.ZipFile(io.BytesIO(r.content))\n",
    "z.extractall('')\n",
    "\n",
    "from src.utils import parse_data, load_jsonl, to_jsonl, form_prompt, dict2tuple, extract_tuple, str2list, save_jsonl, df2structure"
   ]
  },
  {
   "cell_type": "code",
   "execution_count": 4,
   "id": "12eXPKd1tUOZ",
   "metadata": {
    "colab": {
     "base_uri": "https://localhost:8080/"
    },
    "id": "12eXPKd1tUOZ",
    "outputId": "c3a8e203-95a7-4de7-acd8-f0adaae9ea6f"
   },
   "outputs": [
    {
     "name": "stdout",
     "output_type": "stream",
     "text": [
      "2556 803\n"
     ]
    }
   ],
   "source": [
    "# download train and test data\n",
    "train_path = \"train.jsonl\"\n",
    "test_path = \"test.jsonl\"\n",
    "\n",
    "url = 'https://raw.githubusercontent.com/dialogue-evaluation/RuOpinionNE-2024/refs/heads/master/train.jsonl'\n",
    "train = load_jsonl(url, train_path)\n",
    "url = 'https://raw.githubusercontent.com/dialogue-evaluation/RuOpinionNE-2024/refs/heads/master/test.jsonl'\n",
    "test = load_jsonl(url, test_path)\n",
    "\n",
    "print(len(train), len(test))"
   ]
  },
  {
   "cell_type": "code",
   "execution_count": 5,
   "id": "Pa5iGG89u4he",
   "metadata": {
    "colab": {
     "base_uri": "https://localhost:8080/"
    },
    "id": "Pa5iGG89u4he",
    "outputId": "5ac2a18b-8548-4321-9208-00157f98bfba"
   },
   "outputs": [
    {
     "name": "stdout",
     "output_type": "stream",
     "text": [
      "['307', '1254', '22', '296', '2517']\n",
      "['1459', '1586', '210', '504', '1438']\n"
     ]
    }
   ],
   "source": [
    "# download distances file\n",
    "dists = requests.get('https://raw.githubusercontent.com/rossyaykin/RuOpinionNE-2024/refs/heads/main/utils/test_distances.txt')\n",
    "dists = [x.split() for x in dists.text.strip().split('\\n')]\n",
    "\n",
    "print(dists[0][:5])\n",
    "print(dists[-1][:5])"
   ]
  },
  {
   "cell_type": "code",
   "execution_count": null,
   "id": "a8eb04d2",
   "metadata": {},
   "outputs": [],
   "source": [
    "# csv's with preds, generated in Stage1\n",
    "\n",
    "preds1 = pd.read_csv('PREDS1.csv')\n",
    "preds2 = pd.read_csv('PREDS2.csv')\n",
    "preds3 = pd.read_csv('PREDS3.csv')\n",
    "\n",
    "aug = [preds1, preds2, preds3]"
   ]
  },
  {
   "cell_type": "markdown",
   "id": "899adfdd",
   "metadata": {
    "id": "899adfdd"
   },
   "source": [
    "## Определения ##"
   ]
  },
  {
   "cell_type": "code",
   "execution_count": 7,
   "id": "ca5356be",
   "metadata": {
    "id": "ca5356be"
   },
   "outputs": [],
   "source": [
    "def aug_prompt(examples, variants, text):\n",
    "    shots = '\\n'.join([f'Текст: {pair[0]}\\nОтвет: {pair[1]}' for pair in examples])\n",
    "    variants = '\\n'.join([str(x) for x in variants])\n",
    "    return f\"\"\"Ты эксперт в оценке тональности.\n",
    "Тебе нужно найти все негативные и позитивные отношения между сущностями в тексте и вывести их в следующем формате:\n",
    "[источник отношения, объект отношения, выражение в тексте содержащее оценку, оценка (POS/NEG)]\n",
    "Если источником отношения является автор, то пиши:\n",
    "['AUTHOR', объект отношения, выражение в тексте содержащее оценку, оценка (POS/NEG)]\n",
    "Если выраженного источника нет, то пиши:\n",
    "['NULL', объект отношения, выражение в тексте содержащее оценку, оценка (POS/NEG)]\n",
    "Допустимо вернуть пустой ответ:\n",
    "[]\n",
    "Не нужно давать пояснений к ответу.\n",
    "Примеры\n",
    "{shots}\n",
    "Текст, который нужно проанализировать:\n",
    "{text}\n",
    "Ответы экспертов к этому тексту:\n",
    "{variants}\n",
    "Ты можешь выбрать из этих ответов или ответить по-своему.\n",
    "Твой ответ:\"\"\"\n",
    "\n",
    "def aug_prompt_eng(examples, variants, text):\n",
    "    shots = '\\n'.join([f'Текст: {pair[0]}\\nОтвет: {pair[1]}' for pair in examples])\n",
    "    variants = '\\n'.join([str(x) for x in variants])\n",
    "    return f\"\"\"You are an expert in sentiment analysis.\n",
    "You need to identify all positive and negative relations between entities in the text and present them in the following format:\n",
    "[source of sentiment, target, polar expression, polarity (POS/NEG)]\n",
    "If the author is the source of sentiment, write:\n",
    "['AUTHOR', target, polar expression, polarity (POS/NEG)]\n",
    "If there is no explicit source, write:\n",
    "['NULL', target, polar expression, polarity (POS/NEG)]\n",
    "Returning an empty answer is allowed:\n",
    "[]\n",
    "Do not provide any explanations in the response.\n",
    "Examples\n",
    "{shots}\n",
    "Text to analyze: {text}\n",
    "Expert answers to this text:\n",
    "{variants}\n",
    "You can choose from these answers or provide your own answer.\n",
    "Your answer:\"\"\"\n",
    "\n",
    "class Runner():\n",
    "    def __init__(self, model, client, params, train, test, priorities, aug, n_shots = 5, sleeptime = 2):\n",
    "        self.model = model\n",
    "        self.client = client\n",
    "        self.params = params\n",
    "        self.train = train\n",
    "        self.test = test\n",
    "        self.priorities = priorities\n",
    "        self.aug = aug\n",
    "        self.n_shots = n_shots\n",
    "        self.sleeptime = sleeptime\n",
    "        self.results = list()\n",
    "\n",
    "    def run(self):\n",
    "        if len(self.results) > 0:\n",
    "            print('Non empty results!')\n",
    "            return self.results\n",
    "        \n",
    "        for i in tqdm(range(len(self.test))):\n",
    "            time.sleep(self.sleeptime)\n",
    "            entry = self.test[i]\n",
    "            # for random choice\n",
    "            # examples = [dict2tuple(x) for x in choices(self.train, k = self.n_shots)]\n",
    "            examples = [self.train[int(j)] for j in self.priorities[i][:self.n_shots]]\n",
    "            examples = [dict2tuple(x) for x in examples]\n",
    "            variants = [x.loc[i]['pred'] for x in self.aug]\n",
    "            # English prompt\n",
    "            # prompt = aug_prompt_eng(examples, variants, entry['text'])\n",
    "            prompt = aug_prompt(examples, variants, entry['text'])\n",
    "            \n",
    "            try:\n",
    "                completion = client.chat.completions.create(model=self.model,\n",
    "                                                            **self.params,\n",
    "                                                            messages=[{\"role\": \"user\", \"content\": prompt}],)\n",
    "            except JSONDecodeError:\n",
    "                print(f\"JSONDecodeError, iteration {i}\")\n",
    "                return (i, prompt)\n",
    "            \n",
    "            result = completion.choices[0].message.content\n",
    "            try:\n",
    "                result = ast.literal_eval(result)\n",
    "            except (SyntaxError, ValueError):\n",
    "                print(f'bad response, iteration:{i}')\n",
    "                result = []\n",
    "            self.results.append((entry['sent_id'],\n",
    "                            entry['text'],\n",
    "                            dict2tuple(entry)[1], # gold opinions\n",
    "                            result)) # pred opinions\n",
    "        return self.results\n",
    "\n",
    "def save(dataframe, path, raw = True):\n",
    "    outdir, outname = '/'.join(path.split('/')[:-1]), path.split('/')[-1]\n",
    "    if not os.path.exists(outdir):\n",
    "        os.mkdir(outdir)\n",
    "    if raw:\n",
    "        dataframe.to_csv(f'{path}_raw.csv', index = False)\n",
    "    else:\n",
    "        dataframe.to_csv(f'{path}.csv', index = False)"
   ]
  },
  {
   "cell_type": "markdown",
   "id": "e5233f7b",
   "metadata": {
    "id": "e5233f7b"
   },
   "source": [
    "## Инференс ##"
   ]
  },
  {
   "cell_type": "code",
   "execution_count": 36,
   "id": "aa27521e",
   "metadata": {
    "colab": {
     "base_uri": "https://localhost:8080/"
    },
    "id": "aa27521e",
    "outputId": "c864605d-f506-4e68-d22e-29d2645cd338"
   },
   "outputs": [
    {
     "name": "stderr",
     "output_type": "stream",
     "text": [
      "100%|██████████| 803/803 [1:07:16<00:00,  5.03s/it]"
     ]
    },
    {
     "name": "stdout",
     "output_type": "stream",
     "text": [
      "CPU times: total: 5.91 s\n",
      "Wall time: 1h 7min 16s\n"
     ]
    },
    {
     "name": "stderr",
     "output_type": "stream",
     "text": [
      "\n"
     ]
    }
   ],
   "source": [
    "%%time\n",
    "\n",
    "# model = \"openai/gpt-4o-2024-08-06\"\n",
    "# model = \"x-ai/grok-beta\"\n",
    "model = \"deepseek/deepseek-chat\"\n",
    "\n",
    "params = {'temperature': 0.1,\n",
    "          'seed': SEED,\n",
    "          'top_p': 0.9,\n",
    "          'max_tokens': 512}\n",
    "n_shots = 12\n",
    "runner = Runner(model, client, params, train, test, dists, aug, n_shots)\n",
    "\n",
    "path = \"YOUR_PATH\"\n",
    "result = runner.run()"
   ]
  },
  {
   "cell_type": "code",
   "execution_count": 37,
   "id": "a8a1172b",
   "metadata": {
    "colab": {
     "base_uri": "https://localhost:8080/"
    },
    "id": "a8a1172b",
    "outputId": "787bd295-79a3-440c-ea4d-208930f4fd10"
   },
   "outputs": [
    {
     "name": "stdout",
     "output_type": "stream",
     "text": [
      "results/Deepseek/deepseek_claug_12shot_0.1temp_eng\n",
      "(7, 'Назначение командира единого отряда космонавтов, согласно тексту приказа, будет проводиться по согласованию с руководителем Роскосмоса.', [], [])\n"
     ]
    }
   ],
   "source": [
    "path = \"YOUR_PATH\"\n",
    "print(path)\n",
    "print(result[7])"
   ]
  },
  {
   "cell_type": "markdown",
   "id": "6eba69d7",
   "metadata": {
    "id": "6eba69d7"
   },
   "source": [
    "## Результаты ##"
   ]
  },
  {
   "cell_type": "markdown",
   "id": "1096b1ab",
   "metadata": {},
   "source": [
    "сохраняем csv"
   ]
  },
  {
   "cell_type": "code",
   "execution_count": 38,
   "id": "417dd501",
   "metadata": {
    "colab": {
     "base_uri": "https://localhost:8080/",
     "height": 423
    },
    "id": "417dd501",
    "outputId": "fe6ac528-5743-4d97-90a7-8d727f101b7e"
   },
   "outputs": [
    {
     "data": {
      "text/html": [
       "<div>\n",
       "<style scoped>\n",
       "    .dataframe tbody tr th:only-of-type {\n",
       "        vertical-align: middle;\n",
       "    }\n",
       "\n",
       "    .dataframe tbody tr th {\n",
       "        vertical-align: top;\n",
       "    }\n",
       "\n",
       "    .dataframe thead th {\n",
       "        text-align: right;\n",
       "    }\n",
       "</style>\n",
       "<table border=\"1\" class=\"dataframe\">\n",
       "  <thead>\n",
       "    <tr style=\"text-align: right;\">\n",
       "      <th></th>\n",
       "      <th>sent_id</th>\n",
       "      <th>text</th>\n",
       "      <th>target</th>\n",
       "      <th>pred</th>\n",
       "    </tr>\n",
       "  </thead>\n",
       "  <tbody>\n",
       "    <tr>\n",
       "      <th>0</th>\n",
       "      <td>0</td>\n",
       "      <td>В свою очередь, \"PGNiG намерен требовать реали...</td>\n",
       "      <td>[]</td>\n",
       "      <td>[]</td>\n",
       "    </tr>\n",
       "    <tr>\n",
       "      <th>1</th>\n",
       "      <td>1</td>\n",
       "      <td>Известного российского певца Бориса Моисеева, ...</td>\n",
       "      <td>[]</td>\n",
       "      <td>[[NULL, Борис Моисеев, перенес инсульт, NEG], ...</td>\n",
       "    </tr>\n",
       "    <tr>\n",
       "      <th>2</th>\n",
       "      <td>2</td>\n",
       "      <td>Певец находится в клинике ОАО \"Медицина\", его ...</td>\n",
       "      <td>[]</td>\n",
       "      <td>[]</td>\n",
       "    </tr>\n",
       "    <tr>\n",
       "      <th>3</th>\n",
       "      <td>3</td>\n",
       "      <td>В России создан единый отряд космонавтов.</td>\n",
       "      <td>[]</td>\n",
       "      <td>[]</td>\n",
       "    </tr>\n",
       "    <tr>\n",
       "      <th>4</th>\n",
       "      <td>4</td>\n",
       "      <td>Три ранее существовавших отдельных отряда косм...</td>\n",
       "      <td>[]</td>\n",
       "      <td>[]</td>\n",
       "    </tr>\n",
       "    <tr>\n",
       "      <th>...</th>\n",
       "      <td>...</td>\n",
       "      <td>...</td>\n",
       "      <td>...</td>\n",
       "      <td>...</td>\n",
       "    </tr>\n",
       "    <tr>\n",
       "      <th>798</th>\n",
       "      <td>798</td>\n",
       "      <td>Уилер, выпускник военной Академии в Вест-Пойнт...</td>\n",
       "      <td>[]</td>\n",
       "      <td>[]</td>\n",
       "    </tr>\n",
       "    <tr>\n",
       "      <th>799</th>\n",
       "      <td>799</td>\n",
       "      <td>В Америке известен тем, что, будучи председате...</td>\n",
       "      <td>[]</td>\n",
       "      <td>[[NULL, председатель фонда Мемориала войны во ...</td>\n",
       "    </tr>\n",
       "    <tr>\n",
       "      <th>800</th>\n",
       "      <td>800</td>\n",
       "      <td>66-летний Уилер жил вместе с женой в Ньюкасле ...</td>\n",
       "      <td>[]</td>\n",
       "      <td>[]</td>\n",
       "    </tr>\n",
       "    <tr>\n",
       "      <th>801</th>\n",
       "      <td>801</td>\n",
       "      <td>Известно, что 28 декабря он должен был приехат...</td>\n",
       "      <td>[]</td>\n",
       "      <td>[]</td>\n",
       "    </tr>\n",
       "    <tr>\n",
       "      <th>802</th>\n",
       "      <td>802</td>\n",
       "      <td>Как Уилера оказался в Ньюарке, пока остается з...</td>\n",
       "      <td>[]</td>\n",
       "      <td>[[NULL, Уилера, загадкой, NEG]]</td>\n",
       "    </tr>\n",
       "  </tbody>\n",
       "</table>\n",
       "<p>803 rows × 4 columns</p>\n",
       "</div>"
      ],
      "text/plain": [
       "     sent_id                                               text target  \\\n",
       "0          0  В свою очередь, \"PGNiG намерен требовать реали...     []   \n",
       "1          1  Известного российского певца Бориса Моисеева, ...     []   \n",
       "2          2  Певец находится в клинике ОАО \"Медицина\", его ...     []   \n",
       "3          3          В России создан единый отряд космонавтов.     []   \n",
       "4          4  Три ранее существовавших отдельных отряда косм...     []   \n",
       "..       ...                                                ...    ...   \n",
       "798      798  Уилер, выпускник военной Академии в Вест-Пойнт...     []   \n",
       "799      799  В Америке известен тем, что, будучи председате...     []   \n",
       "800      800  66-летний Уилер жил вместе с женой в Ньюкасле ...     []   \n",
       "801      801  Известно, что 28 декабря он должен был приехат...     []   \n",
       "802      802  Как Уилера оказался в Ньюарке, пока остается з...     []   \n",
       "\n",
       "                                                  pred  \n",
       "0                                                   []  \n",
       "1    [[NULL, Борис Моисеев, перенес инсульт, NEG], ...  \n",
       "2                                                   []  \n",
       "3                                                   []  \n",
       "4                                                   []  \n",
       "..                                                 ...  \n",
       "798                                                 []  \n",
       "799  [[NULL, председатель фонда Мемориала войны во ...  \n",
       "800                                                 []  \n",
       "801                                                 []  \n",
       "802                    [[NULL, Уилера, загадкой, NEG]]  \n",
       "\n",
       "[803 rows x 4 columns]"
      ]
     },
     "execution_count": 38,
     "metadata": {},
     "output_type": "execute_result"
    }
   ],
   "source": [
    "output = pd.DataFrame(result, columns = ['sent_id', 'text', 'target', 'pred'])\n",
    "output"
   ]
  },
  {
   "cell_type": "code",
   "execution_count": 39,
   "id": "7d735e5d",
   "metadata": {
    "colab": {
     "base_uri": "https://localhost:8080/"
    },
    "id": "7d735e5d",
    "outputId": "37b52f89-8e22-49c7-8809-02234c51a2bb"
   },
   "outputs": [
    {
     "name": "stdout",
     "output_type": "stream",
     "text": [
      "results/Deepseek/deepseek_claug_12shot_0.1temp_eng\n"
     ]
    }
   ],
   "source": [
    "print(path)\n",
    "save(output, path)"
   ]
  },
  {
   "cell_type": "code",
   "execution_count": 40,
   "id": "bdcd21dc",
   "metadata": {
    "colab": {
     "base_uri": "https://localhost:8080/",
     "height": 206
    },
    "id": "bdcd21dc",
    "outputId": "bf66928b-b1d1-4a44-aa35-cb409f198498"
   },
   "outputs": [
    {
     "data": {
      "text/html": [
       "<div>\n",
       "<style scoped>\n",
       "    .dataframe tbody tr th:only-of-type {\n",
       "        vertical-align: middle;\n",
       "    }\n",
       "\n",
       "    .dataframe tbody tr th {\n",
       "        vertical-align: top;\n",
       "    }\n",
       "\n",
       "    .dataframe thead th {\n",
       "        text-align: right;\n",
       "    }\n",
       "</style>\n",
       "<table border=\"1\" class=\"dataframe\">\n",
       "  <thead>\n",
       "    <tr style=\"text-align: right;\">\n",
       "      <th></th>\n",
       "      <th>sent_id</th>\n",
       "      <th>text</th>\n",
       "      <th>target</th>\n",
       "      <th>pred</th>\n",
       "    </tr>\n",
       "  </thead>\n",
       "  <tbody>\n",
       "    <tr>\n",
       "      <th>0</th>\n",
       "      <td>0</td>\n",
       "      <td>В свою очередь, \"PGNiG намерен требовать реали...</td>\n",
       "      <td>[]</td>\n",
       "      <td>[]</td>\n",
       "    </tr>\n",
       "    <tr>\n",
       "      <th>1</th>\n",
       "      <td>1</td>\n",
       "      <td>Известного российского певца Бориса Моисеева, ...</td>\n",
       "      <td>[]</td>\n",
       "      <td>[[NULL, Борис Моисеев, перенес инсульт, NEG], ...</td>\n",
       "    </tr>\n",
       "    <tr>\n",
       "      <th>2</th>\n",
       "      <td>2</td>\n",
       "      <td>Певец находится в клинике ОАО \"Медицина\", его ...</td>\n",
       "      <td>[]</td>\n",
       "      <td>[]</td>\n",
       "    </tr>\n",
       "    <tr>\n",
       "      <th>3</th>\n",
       "      <td>3</td>\n",
       "      <td>В России создан единый отряд космонавтов.</td>\n",
       "      <td>[]</td>\n",
       "      <td>[]</td>\n",
       "    </tr>\n",
       "    <tr>\n",
       "      <th>4</th>\n",
       "      <td>4</td>\n",
       "      <td>Три ранее существовавших отдельных отряда косм...</td>\n",
       "      <td>[]</td>\n",
       "      <td>[]</td>\n",
       "    </tr>\n",
       "  </tbody>\n",
       "</table>\n",
       "</div>"
      ],
      "text/plain": [
       "   sent_id                                               text target  \\\n",
       "0        0  В свою очередь, \"PGNiG намерен требовать реали...     []   \n",
       "1        1  Известного российского певца Бориса Моисеева, ...     []   \n",
       "2        2  Певец находится в клинике ОАО \"Медицина\", его ...     []   \n",
       "3        3          В России создан единый отряд космонавтов.     []   \n",
       "4        4  Три ранее существовавших отдельных отряда косм...     []   \n",
       "\n",
       "                                                pred  \n",
       "0                                                 []  \n",
       "1  [[NULL, Борис Моисеев, перенес инсульт, NEG], ...  \n",
       "2                                                 []  \n",
       "3                                                 []  \n",
       "4                                                 []  "
      ]
     },
     "execution_count": 40,
     "metadata": {},
     "output_type": "execute_result"
    }
   ],
   "source": [
    "output = pd.DataFrame([(x[0], x[1], x[2], str2list(extract_tuple(x[3]))) for x in result],\n",
    "                      columns = ['sent_id', 'text', 'target', 'pred'])\n",
    "output.head()"
   ]
  },
  {
   "cell_type": "code",
   "execution_count": 41,
   "id": "67742548",
   "metadata": {
    "colab": {
     "base_uri": "https://localhost:8080/"
    },
    "id": "67742548",
    "outputId": "f2da5970-bbed-4b7b-f622-7d3b344a5bda"
   },
   "outputs": [
    {
     "name": "stdout",
     "output_type": "stream",
     "text": [
      "results/Deepseek/deepseek_claug_12shot_0.1temp_eng\n"
     ]
    }
   ],
   "source": [
    "print(path)\n",
    "save(output, path, raw = False)"
   ]
  },
  {
   "cell_type": "markdown",
   "id": "ypxWreTtPa8E",
   "metadata": {
    "id": "ypxWreTtPa8E"
   },
   "source": [
    "## csv to jsonl ##"
   ]
  },
  {
   "cell_type": "markdown",
   "id": "a0bc3981",
   "metadata": {},
   "source": [
    "переводим в формат для подачи на RuOpinionNE-2024"
   ]
  },
  {
   "cell_type": "code",
   "execution_count": 42,
   "id": "lZicQr8APg8Z",
   "metadata": {
    "colab": {
     "base_uri": "https://localhost:8080/"
    },
    "id": "lZicQr8APg8Z",
    "outputId": "905fc15d-b47f-4ce6-d3cd-2d65a2b55435"
   },
   "outputs": [
    {
     "data": {
      "text/plain": [
       "{'sent_id': 13,\n",
       " 'text': 'В Пекине в настоящий момент зарегистрировано 6 кольцевых дорог и 4.76 миллиона транспортных средств, по загруженности китайская столица занимает сомнительное первое место в мире вместе с мексиканском Мехико.',\n",
       " 'opinions': [{'Source': [['NULL'], ['0:0']],\n",
       "   'Target': [['Пекин'], ['2:7']],\n",
       "   'Polar_expression': [['сомнительное первое место в мире'], ['145:177']],\n",
       "   'Polarity': 'NEG'},\n",
       "  {'Source': [['NULL'], ['0:0']],\n",
       "   'Target': [['Мехико'], ['200:206']],\n",
       "   'Polar_expression': [['сомнительное первое место в мире'], ['145:177']],\n",
       "   'Polarity': 'NEG'}]}"
      ]
     },
     "execution_count": 42,
     "metadata": {},
     "output_type": "execute_result"
    }
   ],
   "source": [
    "final = df2structure(output)\n",
    "final[13]"
   ]
  },
  {
   "cell_type": "code",
   "execution_count": null,
   "id": "e321d136",
   "metadata": {},
   "outputs": [],
   "source": [
    "# this may cause UnicodeEncodeError when executed locally\n",
    "save_jsonl(final, path)"
   ]
  }
 ],
 "metadata": {
  "colab": {
   "provenance": []
  },
  "kernelspec": {
   "display_name": "Python 3 (ipykernel)",
   "language": "python",
   "name": "python3"
  },
  "language_info": {
   "codemirror_mode": {
    "name": "ipython",
    "version": 3
   },
   "file_extension": ".py",
   "mimetype": "text/x-python",
   "name": "python",
   "nbconvert_exporter": "python",
   "pygments_lexer": "ipython3",
   "version": "3.11.5"
  }
 },
 "nbformat": 4,
 "nbformat_minor": 5
}
