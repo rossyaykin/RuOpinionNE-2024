{
 "cells": [
  {
   "cell_type": "markdown",
   "id": "fiJePm9_Pm6p",
   "metadata": {
    "id": "fiJePm9_Pm6p"
   },
   "source": [
    "В этом ноутбуке кортежи мнений предсказываются с помощью модели gpt-4o или любой другой модели, доступной через сервис **openrouter**.\n",
    "\n",
    "Здесь используется OpenAI API, также необходим Openrouter API key.\n",
    "\n",
    "Рекомендуется запускать из Google Colab, а не локально, во избежание региональных ограничений."
   ]
  },
  {
   "cell_type": "markdown",
   "id": "ddbd6f67",
   "metadata": {
    "id": "ddbd6f67"
   },
   "source": [
    "## Проверка (OpenAI API) ##"
   ]
  },
  {
   "cell_type": "code",
   "execution_count": 2,
   "id": "50694944",
   "metadata": {
    "colab": {
     "base_uri": "https://localhost:8080/"
    },
    "executionInfo": {
     "elapsed": 32612,
     "status": "ok",
     "timestamp": 1738614717210,
     "user": {
      "displayName": "Петр Россяйкин",
      "userId": "05739792074646755428"
     },
     "user_tz": -180
    },
    "id": "50694944",
    "outputId": "dc7e076d-b738-4c86-b71a-20b6ab78e5a6"
   },
   "outputs": [
    {
     "name": "stdout",
     "output_type": "stream",
     "text": [
      "Меня создала команда разработчиков OpenAI. Модель **GPT-4** была разработана для обработки текстовой информации, ответов на вопросы и помощи в различных задачах. Если у вас есть конкретные вопросы или запросы, я всегда готов помочь! 😊\n"
     ]
    }
   ],
   "source": [
    "import requests\n",
    "import ast\n",
    "import json\n",
    "import os\n",
    "import itertools\n",
    "from tqdm import tqdm\n",
    "import pandas as pd\n",
    "from collections import defaultdict\n",
    "import random\n",
    "from random import choices\n",
    "import time\n",
    "\n",
    "from openai import OpenAI\n",
    "\n",
    "OPENROUTER_API_KEY = \"YOUR_API_KEY\"\n",
    "\n",
    "# model = \"thedrummer/unslopnemo-12b:free\"\n",
    "# model = \"openai/gpt-4o-2024-11-20\"\n",
    "# model = \"x-ai/grok-beta\"\n",
    "model = \"deepseek/deepseek-chat\"\n",
    "url = \"https://openrouter.ai/api/v1\"\n",
    "\n",
    "SEED = 42\n",
    "random.seed(SEED)\n",
    "\n",
    "client = OpenAI(\n",
    "    api_key=OPENROUTER_API_KEY,\n",
    "    base_url=url,\n",
    ")\n",
    "\n",
    "params = {'temperature': 1.7,\n",
    "         'top_p': 0.9,\n",
    "         'max_tokens': 512,\n",
    "         'seed': SEED}\n",
    "\n",
    "completion = client.chat.completions.create(\n",
    "    model=model,\n",
    "    **params,\n",
    "    messages=[\n",
    "        {\"role\": \"system\", \"content\": \"Ответь на вопрос.\"},\n",
    "        {\"role\": \"user\", \"content\": \"Кто тебя создал?\"},\n",
    "    ],\n",
    ")\n",
    "\n",
    "print(completion.choices[0].message.content)"
   ]
  },
  {
   "cell_type": "markdown",
   "id": "28347cd0",
   "metadata": {
    "id": "28347cd0"
   },
   "source": [
    "## Подготовка данных ##"
   ]
  },
  {
   "cell_type": "code",
   "execution_count": 3,
   "id": "Y6lH6Xy1Jsk-",
   "metadata": {
    "executionInfo": {
     "elapsed": 877,
     "status": "ok",
     "timestamp": 1738614855307,
     "user": {
      "displayName": "Петр Россяйкин",
      "userId": "05739792074646755428"
     },
     "user_tz": -180
    },
    "id": "Y6lH6Xy1Jsk-"
   },
   "outputs": [],
   "source": [
    "import requests, zipfile, io\n",
    "\n",
    "# download utility functions\n",
    "url = 'https://raw.githubusercontent.com/rossyaykin/RuOpinionNE-2024/refs/heads/main/utils/src.zip'\n",
    "r = requests.get(url)\n",
    "z = zipfile.ZipFile(io.BytesIO(r.content))\n",
    "z.extractall('')\n",
    "\n",
    "from src.utils import parse_data, load_jsonl, to_jsonl, form_prompt, dict2tuple, extract_tuple, str2list, save_jsonl, df2structure"
   ]
  },
  {
   "cell_type": "code",
   "execution_count": 4,
   "id": "12eXPKd1tUOZ",
   "metadata": {
    "colab": {
     "base_uri": "https://localhost:8080/"
    },
    "executionInfo": {
     "elapsed": 465,
     "status": "ok",
     "timestamp": 1738614860848,
     "user": {
      "displayName": "Петр Россяйкин",
      "userId": "05739792074646755428"
     },
     "user_tz": -180
    },
    "id": "12eXPKd1tUOZ",
    "outputId": "88d9c635-6438-425c-9eb6-6bf92086ab3e"
   },
   "outputs": [
    {
     "name": "stdout",
     "output_type": "stream",
     "text": [
      "2556 803\n"
     ]
    }
   ],
   "source": [
    "# download train and test data\n",
    "train_path = \"train.jsonl\"\n",
    "test_path = \"test.jsonl\"\n",
    "\n",
    "url = 'https://raw.githubusercontent.com/dialogue-evaluation/RuOpinionNE-2024/refs/heads/master/train.jsonl'\n",
    "train = load_jsonl(url, train_path)\n",
    "url = 'https://raw.githubusercontent.com/dialogue-evaluation/RuOpinionNE-2024/refs/heads/master/test.jsonl'\n",
    "test = load_jsonl(url, test_path)\n",
    "\n",
    "print(len(train), len(test))"
   ]
  },
  {
   "cell_type": "code",
   "execution_count": 5,
   "id": "rtSmSQV1Ff8C",
   "metadata": {
    "colab": {
     "base_uri": "https://localhost:8080/"
    },
    "executionInfo": {
     "elapsed": 240,
     "status": "ok",
     "timestamp": 1738614927369,
     "user": {
      "displayName": "Петр Россяйкин",
      "userId": "05739792074646755428"
     },
     "user_tz": -180
    },
    "id": "rtSmSQV1Ff8C",
    "outputId": "d6d49cf9-a39f-4096-cdff-05a4e276f90e"
   },
   "outputs": [
    {
     "name": "stdout",
     "output_type": "stream",
     "text": [
      "['307', '1254', '22', '296', '2517']\n",
      "['1459', '1586', '210', '504', '1438']\n"
     ]
    }
   ],
   "source": [
    "# download distances file\n",
    "dists = requests.get('https://raw.githubusercontent.com/rossyaykin/RuOpinionNE-2024/refs/heads/main/utils/test_distances.txt')\n",
    "dists = [x.split() for x in dists.text.strip().split('\\n')]\n",
    "\n",
    "print(dists[0][:5])\n",
    "print(dists[-1][:5])"
   ]
  },
  {
   "cell_type": "markdown",
   "id": "899adfdd",
   "metadata": {
    "id": "899adfdd"
   },
   "source": [
    "## Определения ##"
   ]
  },
  {
   "cell_type": "code",
   "execution_count": 13,
   "id": "ca5356be",
   "metadata": {
    "executionInfo": {
     "elapsed": 223,
     "status": "ok",
     "timestamp": 1738615799979,
     "user": {
      "displayName": "Петр Россяйкин",
      "userId": "05739792074646755428"
     },
     "user_tz": -180
    },
    "id": "ca5356be"
   },
   "outputs": [],
   "source": [
    "def form_prompt_eng(examples, text):\n",
    "    shots = '\\n'.join([f'Text: {pair[0]}\\nAnswer: {pair[1]}' for pair in examples])\n",
    "    return f\"\"\"You are an expert in sentiment analysis.\n",
    "You need to identify all positive and negative relations between entities in the text and present them in the following format:\n",
    "[source of sentiment, target, polar expression, polarity (POS/NEG)]\n",
    "If the author is the source of sentiment, write:\n",
    "['AUTHOR', target, polar expression, polarity (POS/NEG)]\n",
    "If there is no explicit source, write:\n",
    "['NULL', target, polar expression, polarity (POS/NEG)]\n",
    "Returning an empty answer is allowed:\n",
    "[]\n",
    "Do not provide any explanations in the response.\n",
    "Examples\n",
    "{shots}\n",
    "Text: {text}\n",
    "Answer: \"\"\"\n",
    "\n",
    "class Runner():\n",
    "    def __init__(self, model, client, params, train, test, priorities, n_shots = 5, sleeptime = 2):\n",
    "        self.model = model\n",
    "        self.client = client\n",
    "        self.params = params\n",
    "        self.train = train\n",
    "        self.test = test\n",
    "        self.priorities = priorities\n",
    "        self.n_shots = n_shots\n",
    "        self.sleeptime = sleeptime\n",
    "\n",
    "    def run(self):\n",
    "        results = list()\n",
    "        for i in tqdm(range(len(self.test))):\n",
    "            time.sleep(self.sleeptime)\n",
    "            entry = self.test[i]\n",
    "            # for random choice\n",
    "            # examples = [dict2tuple(x) for x in choices(self.train, k = self.n_shots)]\n",
    "            examples = [self.train[int(j)] for j in self.priorities[i][:self.n_shots]]\n",
    "            examples = [dict2tuple(x) for x in examples]\n",
    "            # English prompt\n",
    "            # prompt = form_prompt_eng(examples, entry['text'])\n",
    "            prompt = form_prompt(examples, entry['text'])\n",
    "            completion = client.chat.completions.create(model=self.model,\n",
    "                                                        **self.params,\n",
    "                                                        messages=[{\"role\": \"user\", \"content\": prompt}],)\n",
    "            result = completion.choices[0].message.content\n",
    "            try:\n",
    "                result = ast.literal_eval(result)\n",
    "            except (SyntaxError, ValueError):\n",
    "                print(f'bad response, iteration:{len(results)}')\n",
    "                result = []\n",
    "            results.append((entry['sent_id'],\n",
    "                            entry['text'],\n",
    "                            dict2tuple(entry)[1], # gold opinions\n",
    "                            result)) # pred opinions\n",
    "        return results\n",
    "\n",
    "def save(dataframe, path, raw = True):\n",
    "    outdir, outname = '/'.join(path.split('/')[:-1]), path.split('/')[-1]\n",
    "    if not os.path.exists(outdir):\n",
    "        os.mkdir(outdir)\n",
    "    if raw:\n",
    "        dataframe.to_csv(f'{path}_raw.csv', index = False)\n",
    "    else:\n",
    "        dataframe.to_csv(f'{path}.csv', index = False)"
   ]
  },
  {
   "cell_type": "markdown",
   "id": "ce5f9c2c",
   "metadata": {
    "id": "ce5f9c2c"
   },
   "source": [
    "## Тест на одном примере ##"
   ]
  },
  {
   "cell_type": "code",
   "execution_count": 7,
   "id": "fc27c741",
   "metadata": {
    "colab": {
     "base_uri": "https://localhost:8080/"
    },
    "executionInfo": {
     "elapsed": 237,
     "status": "ok",
     "timestamp": 1738614961594,
     "user": {
      "displayName": "Петр Россяйкин",
      "userId": "05739792074646755428"
     },
     "user_tz": -180
    },
    "id": "fc27c741",
    "outputId": "28c566fa-def0-4461-f9c5-f1adc6eacd2d"
   },
   "outputs": [
    {
     "name": "stdout",
     "output_type": "stream",
     "text": [
      "--Промпт--:\n",
      "\n",
      "Ты эксперт в оценке тональности.\n",
      "Тебе нужно найти все негативные и позитивные отношения между сущностями в тексте и вывести их в следующем формате:\n",
      "[источник отношения, объект отношения, выражение в тексте содержащее оценку, оценка (POS/NEG)]\n",
      "Если источником отношения является автор, то пиши:\n",
      "['AUTHOR', объект отношения, выражение в тексте содержащее оценку, оценка (POS/NEG)]\n",
      "Если выраженного источника нет, то пиши:\n",
      "['NULL', объект отношения, выражение в тексте содержащее оценку, оценка (POS/NEG)]\n",
      "Допустимо вернуть пустой ответ:\n",
      "[]\n",
      "Не нужно давать пояснений к ответу.\n",
      "Примеры\n",
      "Текст: Президент Башкирии Муртаза Рахимов в очередной раз решил поменять главу своей администрации.\n",
      "Ответ: [['Муртаза Рахимов', 'главу своей администрации', 'поменять', 'NEG']]\n",
      "Текст: Вчера он уволил Азамата Сагитова, который возглавил башкирскую администрацию год назад после вынужденной отставки Радия Хабирова, сейчас занимающего пост заместителя начальника управления президента РФ по внутренней политике.\n",
      "Ответ: [['NULL', 'Азамата Сагитова', 'уволил', 'NEG']]\n",
      "Текст: Преемник господина Сагитова, которого перевели на работу в мэрию Уфы, пока не назначен.\n",
      "Ответ: []\n",
      "Текст: Как сообщил \"Ъ\" глава пресс-службы башкирского президента Айрат Мурзагалиев, вчера Муртаза Рахимов подписал указ об отставке главы своей администрации.\n",
      "Ответ: [['Муртаза Рахимов', 'главы своей администрации', 'отставке', 'NEG']]\n",
      "Текст: 42-летний Азамат Сагитов, ранее работавший в местных структурах по поддержке малого бизнеса, а затем главой одной из районных администраций Уфы, занял этот пост в июле прошлого года.\n",
      "Ответ: []\n",
      "Текст: Этому назначению предшествовал громкий скандал, сопровождавший историю отставки прежнего главы администрации Радия Хабирова.\n",
      "Ответ: \n"
     ]
    }
   ],
   "source": [
    "n_shots = 5\n",
    "examples = [dict2tuple(x) for x in train[:n_shots]]\n",
    "text, target = dict2tuple(train[n_shots])\n",
    "\n",
    "sample_prompt = form_prompt(examples, text)\n",
    "print(f'--Промпт--:\\n\\n{sample_prompt}')"
   ]
  },
  {
   "cell_type": "code",
   "execution_count": 8,
   "id": "c19efe1f",
   "metadata": {
    "colab": {
     "base_uri": "https://localhost:8080/",
     "height": 353
    },
    "executionInfo": {
     "elapsed": 112925,
     "status": "error",
     "timestamp": 1738615947998,
     "user": {
      "displayName": "Петр Россяйкин",
      "userId": "05739792074646755428"
     },
     "user_tz": -180
    },
    "id": "c19efe1f",
    "outputId": "505bbfa8-d201-4c61-fb9f-42b8c12bc938"
   },
   "outputs": [
    {
     "name": "stdout",
     "output_type": "stream",
     "text": [
      "--Текст--:\n",
      "Этому назначению предшествовал громкий скандал, сопровождавший историю отставки прежнего главы администрации Радия Хабирова.\n",
      "--Таргет--:\n",
      "[['NULL', 'Радия Хабирова', 'громкий скандал', 'NEG']]\n",
      "--Предикт--:\n",
      "[['NULL', 'историю отставки прежнего главы администрации Радия Хабирова', 'громкий скандал', 'NEG']]\n"
     ]
    }
   ],
   "source": [
    "# model = \"thedrummer/unslopnemo-12b:free\"\n",
    "# model = \"openai/gpt-4o-2024-08-06\"\n",
    "# model = \"x-ai/grok-beta\"\n",
    "model = \"deepseek/deepseek-chat\"\n",
    "\n",
    "params = {'temperature': 0.1,\n",
    "          'seed': SEED,\n",
    "          'top_p': 0.9,\n",
    "          'max_tokens': 512}\n",
    "\n",
    "completion = client.chat.completions.create(\n",
    "    model=model,\n",
    "    **params,\n",
    "    messages=[{\"role\": \"user\",\n",
    "               \"content\": sample_prompt}],\n",
    ")\n",
    "\n",
    "response = completion.choices[0].message.content\n",
    "result = ast.literal_eval(response)\n",
    "\n",
    "print(f'--Текст--:\\n{text}')\n",
    "print(f'--Таргет--:\\n{target}')\n",
    "print(f'--Предикт--:\\n{extract_tuple(result)}')"
   ]
  },
  {
   "cell_type": "markdown",
   "id": "e5233f7b",
   "metadata": {
    "id": "e5233f7b"
   },
   "source": [
    "## Инференс ##"
   ]
  },
  {
   "cell_type": "code",
   "execution_count": 10,
   "id": "aa27521e",
   "metadata": {
    "colab": {
     "base_uri": "https://localhost:8080/",
     "height": 426
    },
    "executionInfo": {
     "elapsed": 248193,
     "status": "ok",
     "timestamp": 1738616226243,
     "user": {
      "displayName": "Петр Россяйкин",
      "userId": "05739792074646755428"
     },
     "user_tz": -180
    },
    "id": "aa27521e",
    "outputId": "624656e9-a36e-4b6a-c262-407e229f88d3"
   },
   "outputs": [
    {
     "name": "stderr",
     "output_type": "stream",
     "text": [
      " 10%|█         | 84/803 [05:54<46:03,  3.84s/it]  "
     ]
    },
    {
     "name": "stdout",
     "output_type": "stream",
     "text": [
      "bad response, iteration:83\n"
     ]
    },
    {
     "name": "stderr",
     "output_type": "stream",
     "text": [
      "100%|██████████| 803/803 [1:02:39<00:00,  4.68s/it]"
     ]
    },
    {
     "name": "stdout",
     "output_type": "stream",
     "text": [
      "CPU times: total: 7.78 s\n",
      "Wall time: 1h 2min 39s\n"
     ]
    },
    {
     "name": "stderr",
     "output_type": "stream",
     "text": [
      "\n"
     ]
    }
   ],
   "source": [
    "%%time\n",
    "\n",
    "# model = \"openai/gpt-4o-2024-08-06\"\n",
    "# model = \"x-ai/grok-beta\"\n",
    "model = \"deepseek/deepseek-chat\"\n",
    "\n",
    "params = {'temperature': 0.1,\n",
    "          'seed': SEED,\n",
    "          'top_p': 0.9,\n",
    "          'max_tokens': 512}\n",
    "n_shots = 12\n",
    "runner = Runner(model, client, params, train, test, dists, n_shots)\n",
    "\n",
    "result = runner.run()"
   ]
  },
  {
   "cell_type": "code",
   "execution_count": 11,
   "id": "a8a1172b",
   "metadata": {
    "colab": {
     "base_uri": "https://localhost:8080/"
    },
    "executionInfo": {
     "elapsed": 259,
     "status": "ok",
     "timestamp": 1737417131631,
     "user": {
      "displayName": "Петр Россяйкин",
      "userId": "05739792074646755428"
     },
     "user_tz": -180
    },
    "id": "a8a1172b",
    "outputId": "4f90b728-6f56-4259-9e3a-ec5688df9178"
   },
   "outputs": [
    {
     "name": "stdout",
     "output_type": "stream",
     "text": [
      "./results/Deepseek/deepseek_cl_12shot_0.1temp_eng\n",
      "(1, 'Известного российского певца Бориса Моисеева, который недавно перенес инсульт, отключили от аппарата вентиляции легких.', [], [['NULL', 'Бориса Моисеева', 'отключили от аппарата вентиляции легких', 'NEG']])\n"
     ]
    }
   ],
   "source": [
    "path = \"YOUR_PATH\"\n",
    "print(path)\n",
    "print(result[1])"
   ]
  },
  {
   "cell_type": "markdown",
   "id": "6eba69d7",
   "metadata": {
    "id": "6eba69d7"
   },
   "source": [
    "## Результаты ##"
   ]
  },
  {
   "cell_type": "markdown",
   "id": "f365df33",
   "metadata": {},
   "source": [
    "сохраняем csv"
   ]
  },
  {
   "cell_type": "code",
   "execution_count": 12,
   "id": "417dd501",
   "metadata": {
    "colab": {
     "base_uri": "https://localhost:8080/",
     "height": 206
    },
    "executionInfo": {
     "elapsed": 234,
     "status": "ok",
     "timestamp": 1737417136148,
     "user": {
      "displayName": "Петр Россяйкин",
      "userId": "05739792074646755428"
     },
     "user_tz": -180
    },
    "id": "417dd501",
    "outputId": "d2df88cc-a9e7-46e5-a7f4-c65a6ed99600"
   },
   "outputs": [
    {
     "data": {
      "text/html": [
       "<div>\n",
       "<style scoped>\n",
       "    .dataframe tbody tr th:only-of-type {\n",
       "        vertical-align: middle;\n",
       "    }\n",
       "\n",
       "    .dataframe tbody tr th {\n",
       "        vertical-align: top;\n",
       "    }\n",
       "\n",
       "    .dataframe thead th {\n",
       "        text-align: right;\n",
       "    }\n",
       "</style>\n",
       "<table border=\"1\" class=\"dataframe\">\n",
       "  <thead>\n",
       "    <tr style=\"text-align: right;\">\n",
       "      <th></th>\n",
       "      <th>sent_id</th>\n",
       "      <th>text</th>\n",
       "      <th>target</th>\n",
       "      <th>pred</th>\n",
       "    </tr>\n",
       "  </thead>\n",
       "  <tbody>\n",
       "    <tr>\n",
       "      <th>0</th>\n",
       "      <td>0</td>\n",
       "      <td>В свою очередь, \"PGNiG намерен требовать реали...</td>\n",
       "      <td>[]</td>\n",
       "      <td>[]</td>\n",
       "    </tr>\n",
       "    <tr>\n",
       "      <th>1</th>\n",
       "      <td>1</td>\n",
       "      <td>Известного российского певца Бориса Моисеева, ...</td>\n",
       "      <td>[]</td>\n",
       "      <td>[[NULL, Бориса Моисеева, отключили от аппарата...</td>\n",
       "    </tr>\n",
       "    <tr>\n",
       "      <th>2</th>\n",
       "      <td>2</td>\n",
       "      <td>Певец находится в клинике ОАО \"Медицина\", его ...</td>\n",
       "      <td>[]</td>\n",
       "      <td>[[ведущий нейрохирург страны, оснований для оп...</td>\n",
       "    </tr>\n",
       "    <tr>\n",
       "      <th>3</th>\n",
       "      <td>3</td>\n",
       "      <td>В России создан единый отряд космонавтов.</td>\n",
       "      <td>[]</td>\n",
       "      <td>[]</td>\n",
       "    </tr>\n",
       "    <tr>\n",
       "      <th>4</th>\n",
       "      <td>4</td>\n",
       "      <td>Три ранее существовавших отдельных отряда косм...</td>\n",
       "      <td>[]</td>\n",
       "      <td>[]</td>\n",
       "    </tr>\n",
       "  </tbody>\n",
       "</table>\n",
       "</div>"
      ],
      "text/plain": [
       "   sent_id                                               text target  \\\n",
       "0        0  В свою очередь, \"PGNiG намерен требовать реали...     []   \n",
       "1        1  Известного российского певца Бориса Моисеева, ...     []   \n",
       "2        2  Певец находится в клинике ОАО \"Медицина\", его ...     []   \n",
       "3        3          В России создан единый отряд космонавтов.     []   \n",
       "4        4  Три ранее существовавших отдельных отряда косм...     []   \n",
       "\n",
       "                                                pred  \n",
       "0                                                 []  \n",
       "1  [[NULL, Бориса Моисеева, отключили от аппарата...  \n",
       "2  [[ведущий нейрохирург страны, оснований для оп...  \n",
       "3                                                 []  \n",
       "4                                                 []  "
      ]
     },
     "execution_count": 12,
     "metadata": {},
     "output_type": "execute_result"
    }
   ],
   "source": [
    "output = pd.DataFrame(result, columns = ['sent_id', 'text', 'target', 'pred'])\n",
    "output.head()"
   ]
  },
  {
   "cell_type": "code",
   "execution_count": 13,
   "id": "7d735e5d",
   "metadata": {
    "colab": {
     "base_uri": "https://localhost:8080/"
    },
    "executionInfo": {
     "elapsed": 257,
     "status": "ok",
     "timestamp": 1737417139097,
     "user": {
      "displayName": "Петр Россяйкин",
      "userId": "05739792074646755428"
     },
     "user_tz": -180
    },
    "id": "7d735e5d",
    "outputId": "12eb9884-f083-49bf-ca94-15731841b95f"
   },
   "outputs": [
    {
     "name": "stdout",
     "output_type": "stream",
     "text": [
      "./results/Deepseek/deepseek_cl_12shot_0.1temp_eng\n"
     ]
    }
   ],
   "source": [
    "print(path)\n",
    "save(output, path)"
   ]
  },
  {
   "cell_type": "code",
   "execution_count": 14,
   "id": "bdcd21dc",
   "metadata": {
    "colab": {
     "base_uri": "https://localhost:8080/",
     "height": 206
    },
    "executionInfo": {
     "elapsed": 257,
     "status": "ok",
     "timestamp": 1737417142207,
     "user": {
      "displayName": "Петр Россяйкин",
      "userId": "05739792074646755428"
     },
     "user_tz": -180
    },
    "id": "bdcd21dc",
    "outputId": "cc63bc54-1eb3-4084-8a2a-40e411ea7079"
   },
   "outputs": [
    {
     "data": {
      "text/html": [
       "<div>\n",
       "<style scoped>\n",
       "    .dataframe tbody tr th:only-of-type {\n",
       "        vertical-align: middle;\n",
       "    }\n",
       "\n",
       "    .dataframe tbody tr th {\n",
       "        vertical-align: top;\n",
       "    }\n",
       "\n",
       "    .dataframe thead th {\n",
       "        text-align: right;\n",
       "    }\n",
       "</style>\n",
       "<table border=\"1\" class=\"dataframe\">\n",
       "  <thead>\n",
       "    <tr style=\"text-align: right;\">\n",
       "      <th></th>\n",
       "      <th>sent_id</th>\n",
       "      <th>text</th>\n",
       "      <th>target</th>\n",
       "      <th>pred</th>\n",
       "    </tr>\n",
       "  </thead>\n",
       "  <tbody>\n",
       "    <tr>\n",
       "      <th>0</th>\n",
       "      <td>0</td>\n",
       "      <td>В свою очередь, \"PGNiG намерен требовать реали...</td>\n",
       "      <td>[]</td>\n",
       "      <td>[]</td>\n",
       "    </tr>\n",
       "    <tr>\n",
       "      <th>1</th>\n",
       "      <td>1</td>\n",
       "      <td>Известного российского певца Бориса Моисеева, ...</td>\n",
       "      <td>[]</td>\n",
       "      <td>[[NULL, Бориса Моисеева, отключили от аппарата...</td>\n",
       "    </tr>\n",
       "    <tr>\n",
       "      <th>2</th>\n",
       "      <td>2</td>\n",
       "      <td>Певец находится в клинике ОАО \"Медицина\", его ...</td>\n",
       "      <td>[]</td>\n",
       "      <td>[[ведущий нейрохирург страны, оснований для оп...</td>\n",
       "    </tr>\n",
       "    <tr>\n",
       "      <th>3</th>\n",
       "      <td>3</td>\n",
       "      <td>В России создан единый отряд космонавтов.</td>\n",
       "      <td>[]</td>\n",
       "      <td>[]</td>\n",
       "    </tr>\n",
       "    <tr>\n",
       "      <th>4</th>\n",
       "      <td>4</td>\n",
       "      <td>Три ранее существовавших отдельных отряда косм...</td>\n",
       "      <td>[]</td>\n",
       "      <td>[]</td>\n",
       "    </tr>\n",
       "  </tbody>\n",
       "</table>\n",
       "</div>"
      ],
      "text/plain": [
       "   sent_id                                               text target  \\\n",
       "0        0  В свою очередь, \"PGNiG намерен требовать реали...     []   \n",
       "1        1  Известного российского певца Бориса Моисеева, ...     []   \n",
       "2        2  Певец находится в клинике ОАО \"Медицина\", его ...     []   \n",
       "3        3          В России создан единый отряд космонавтов.     []   \n",
       "4        4  Три ранее существовавших отдельных отряда косм...     []   \n",
       "\n",
       "                                                pred  \n",
       "0                                                 []  \n",
       "1  [[NULL, Бориса Моисеева, отключили от аппарата...  \n",
       "2  [[ведущий нейрохирург страны, оснований для оп...  \n",
       "3                                                 []  \n",
       "4                                                 []  "
      ]
     },
     "execution_count": 14,
     "metadata": {},
     "output_type": "execute_result"
    }
   ],
   "source": [
    "output = pd.DataFrame([(x[0], x[1], x[2], str2list(extract_tuple(x[3]))) for x in result],\n",
    "                      columns = ['sent_id', 'text', 'target', 'pred'])\n",
    "output.head()"
   ]
  },
  {
   "cell_type": "code",
   "execution_count": 15,
   "id": "67742548",
   "metadata": {
    "colab": {
     "base_uri": "https://localhost:8080/"
    },
    "executionInfo": {
     "elapsed": 225,
     "status": "ok",
     "timestamp": 1737417145971,
     "user": {
      "displayName": "Петр Россяйкин",
      "userId": "05739792074646755428"
     },
     "user_tz": -180
    },
    "id": "67742548",
    "outputId": "2f49b703-23c3-48fc-f25a-314c4334724a"
   },
   "outputs": [
    {
     "name": "stdout",
     "output_type": "stream",
     "text": [
      "./results/Deepseek/deepseek_cl_12shot_0.1temp_eng\n"
     ]
    }
   ],
   "source": [
    "print(path)\n",
    "save(output, path, raw = False)"
   ]
  },
  {
   "cell_type": "markdown",
   "id": "ypxWreTtPa8E",
   "metadata": {
    "id": "ypxWreTtPa8E"
   },
   "source": [
    "## csv to jsonl ##"
   ]
  },
  {
   "cell_type": "markdown",
   "id": "acf9d420",
   "metadata": {},
   "source": [
    "переводим в формат для подачи на RuOpinionNE-2024"
   ]
  },
  {
   "cell_type": "code",
   "execution_count": 16,
   "id": "lZicQr8APg8Z",
   "metadata": {
    "colab": {
     "base_uri": "https://localhost:8080/"
    },
    "executionInfo": {
     "elapsed": 490,
     "status": "ok",
     "timestamp": 1737417152548,
     "user": {
      "displayName": "Петр Россяйкин",
      "userId": "05739792074646755428"
     },
     "user_tz": -180
    },
    "id": "lZicQr8APg8Z",
    "outputId": "43fd2a07-c822-400a-c495-57892933bd4d"
   },
   "outputs": [
    {
     "data": {
      "text/plain": [
       "{'sent_id': 13,\n",
       " 'text': 'В Пекине в настоящий момент зарегистрировано 6 кольцевых дорог и 4.76 миллиона транспортных средств, по загруженности китайская столица занимает сомнительное первое место в мире вместе с мексиканском Мехико.',\n",
       " 'opinions': [{'Source': [['NULL'], ['0:0']],\n",
       "   'Target': [['Пекине'], ['2:8']],\n",
       "   'Polar_expression': [['сомнительное первое место в мире'], ['145:177']],\n",
       "   'Polarity': 'NEG'}]}"
      ]
     },
     "execution_count": 16,
     "metadata": {},
     "output_type": "execute_result"
    }
   ],
   "source": [
    "final = df2structure(output)\n",
    "final[13]"
   ]
  },
  {
   "cell_type": "code",
   "execution_count": null,
   "id": "962e8965",
   "metadata": {},
   "outputs": [],
   "source": [
    "# this may cause UnicodeEncodeError when executed locally\n",
    "save_jsonl(final, path)"
   ]
  }
 ],
 "metadata": {
  "colab": {
   "provenance": []
  },
  "kernelspec": {
   "display_name": "Python 3 (ipykernel)",
   "language": "python",
   "name": "python3"
  },
  "language_info": {
   "codemirror_mode": {
    "name": "ipython",
    "version": 3
   },
   "file_extension": ".py",
   "mimetype": "text/x-python",
   "name": "python",
   "nbconvert_exporter": "python",
   "pygments_lexer": "ipython3",
   "version": "3.11.5"
  }
 },
 "nbformat": 4,
 "nbformat_minor": 5
}
