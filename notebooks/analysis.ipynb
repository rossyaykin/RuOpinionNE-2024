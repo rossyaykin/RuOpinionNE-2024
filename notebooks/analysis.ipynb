{
 "cells": [
  {
   "cell_type": "markdown",
   "id": "10833506",
   "metadata": {},
   "source": [
    "## Из jsonl в pd.DataFrame() ##"
   ]
  },
  {
   "cell_type": "code",
   "execution_count": 1,
   "id": "81bdf5a9",
   "metadata": {},
   "outputs": [
    {
     "data": {
      "text/plain": [
       "{'sent_id': 0,\n",
       " 'text': 'Президент Башкирии Муртаза Рахимов в очередной раз решил поменять главу своей администрации.',\n",
       " 'opinions': [{'Source': [['Муртаза Рахимов'], ['19:34']],\n",
       "   'Target': [['главу своей администрации'], ['66:91']],\n",
       "   'Polar_expression': [['поменять'], ['57:65']],\n",
       "   'Polarity': 'NEG'}]}"
      ]
     },
     "execution_count": 1,
     "metadata": {},
     "output_type": "execute_result"
    }
   ],
   "source": [
    "import json\n",
    "import requests\n",
    "import pandas as pd\n",
    "from matplotlib import pyplot as plt\n",
    "import seaborn as sns\n",
    "from collections import defaultdict\n",
    "from collections import Counter\n",
    "\n",
    "path = \"train.jsonl\"\n",
    "url = \"https://raw.githubusercontent.com/dialogue-evaluation/RuOpinionNE-2024/refs/heads/master/train.jsonl\"\n",
    "\n",
    "r = requests.get(url, allow_redirects=True)\n",
    "with open(path, 'wb') as st:\n",
    "    st.write(r.content)\n",
    "\n",
    "# read in pandas\n",
    "# file_path = \"train.jsonl\"\n",
    "# df = pd.read_json(path_or_buf=file_path, lines=True)\n",
    "\n",
    "# Reading from a JSON Lines file\n",
    "with open(path, 'r', encoding = 'utf8') as file:\n",
    "    data = list()\n",
    "    for line in file:\n",
    "        data_entry = json.loads(line)\n",
    "        data.append(data_entry)\n",
    "        \n",
    "next(iter(data))"
   ]
  },
  {
   "cell_type": "code",
   "execution_count": 2,
   "id": "efe786a8",
   "metadata": {},
   "outputs": [
    {
     "name": "stdout",
     "output_type": "stream",
     "text": [
      "Объектов с 0 мнений: 1062\n",
      "Объектов с 1 мнением: 769\n"
     ]
    }
   ],
   "source": [
    "zero, one = 0, 0\n",
    "for elem in data:\n",
    "    if len(elem['opinions']) == 0:\n",
    "        zero+=1\n",
    "    elif len(elem['opinions']) == 1:\n",
    "        one+=1\n",
    "print(f'Объектов с 0 мнений: {zero}')\n",
    "print(f'Объектов с 1 мнением: {one}')"
   ]
  },
  {
   "cell_type": "code",
   "execution_count": 3,
   "id": "eb351f07",
   "metadata": {},
   "outputs": [
    {
     "name": "stdout",
     "output_type": "stream",
     "text": [
      "Больше одного мнения: 725\n"
     ]
    }
   ],
   "source": [
    "print(f'Больше одного мнения: {len(data)-zero-one}')"
   ]
  },
  {
   "cell_type": "code",
   "execution_count": 4,
   "id": "72432364",
   "metadata": {},
   "outputs": [
    {
     "name": "stdout",
     "output_type": "stream",
     "text": [
      "Multiple/split source: 0\n",
      "Multiple/split target: 4\n",
      "Multiple/split expressions: 19\n"
     ]
    }
   ],
   "source": [
    "s, t, e = 0, 0, 0\n",
    "for elem in data:\n",
    "    for op in elem['opinions']:\n",
    "        if len(op['Source'][0]) > 1:\n",
    "            s+=1\n",
    "        if len(op['Target'][0]) > 1:\n",
    "            t+=1\n",
    "        if len(op['Polar_expression'][0]) > 1:\n",
    "            e+=1\n",
    "\n",
    "print(f'Multiple/split source: {s}')\n",
    "print(f'Multiple/split target: {t}')\n",
    "print(f'Multiple/split expressions: {e}')"
   ]
  },
  {
   "cell_type": "markdown",
   "id": "51078d4f",
   "metadata": {},
   "source": [
    "Создадим датафрейм, где 1 мнение = 1 строка"
   ]
  },
  {
   "cell_type": "code",
   "execution_count": 5,
   "id": "67fe9b2c",
   "metadata": {},
   "outputs": [],
   "source": [
    "opinions = list()\n",
    "for elem in data:\n",
    "    for op in elem['opinions']:\n",
    "        # source text and span\n",
    "        if len(op['Source'][0]) > 1:\n",
    "            source_text = op['Source'][0]\n",
    "            source_span = op['Source'][1]\n",
    "        else:\n",
    "            source_text = op['Source'][0][0]\n",
    "            source_span = op['Source'][1][0]\n",
    "        # target text and span\n",
    "        if len(op['Target'][0]) > 1:\n",
    "            target_text = op['Target'][0]\n",
    "            target_span = op['Target'][1]\n",
    "        else:\n",
    "            target_text = op['Target'][0][0]\n",
    "            target_span = op['Target'][1][0]\n",
    "        # expression text and span\n",
    "        if len(op['Polar_expression'][0]) > 1:\n",
    "            exp_text = op['Polar_expression'][0]\n",
    "            exp_span = op['Polar_expression'][1]\n",
    "        else:\n",
    "            exp_text = op['Polar_expression'][0][0]\n",
    "            exp_span = op['Polar_expression'][1][0]\n",
    "        opinions.append([elem['sent_id'], elem['text'], source_text, target_text, exp_text,\n",
    "                       op['Polarity'], source_span, target_span, exp_span])"
   ]
  },
  {
   "cell_type": "code",
   "execution_count": 6,
   "id": "1100a26d",
   "metadata": {},
   "outputs": [
    {
     "data": {
      "text/html": [
       "<div>\n",
       "<style scoped>\n",
       "    .dataframe tbody tr th:only-of-type {\n",
       "        vertical-align: middle;\n",
       "    }\n",
       "\n",
       "    .dataframe tbody tr th {\n",
       "        vertical-align: top;\n",
       "    }\n",
       "\n",
       "    .dataframe thead th {\n",
       "        text-align: right;\n",
       "    }\n",
       "</style>\n",
       "<table border=\"1\" class=\"dataframe\">\n",
       "  <thead>\n",
       "    <tr style=\"text-align: right;\">\n",
       "      <th></th>\n",
       "      <th>sent_id</th>\n",
       "      <th>text</th>\n",
       "      <th>s</th>\n",
       "      <th>t</th>\n",
       "      <th>e</th>\n",
       "      <th>p</th>\n",
       "      <th>s_span</th>\n",
       "      <th>t_span</th>\n",
       "      <th>e_span</th>\n",
       "    </tr>\n",
       "  </thead>\n",
       "  <tbody>\n",
       "    <tr>\n",
       "      <th>0</th>\n",
       "      <td>0</td>\n",
       "      <td>Президент Башкирии Муртаза Рахимов в очередной...</td>\n",
       "      <td>Муртаза Рахимов</td>\n",
       "      <td>главу своей администрации</td>\n",
       "      <td>поменять</td>\n",
       "      <td>NEG</td>\n",
       "      <td>19:34</td>\n",
       "      <td>66:91</td>\n",
       "      <td>57:65</td>\n",
       "    </tr>\n",
       "    <tr>\n",
       "      <th>1</th>\n",
       "      <td>1</td>\n",
       "      <td>Вчера он уволил Азамата Сагитова, который возг...</td>\n",
       "      <td>NULL</td>\n",
       "      <td>Азамата Сагитова</td>\n",
       "      <td>уволил</td>\n",
       "      <td>NEG</td>\n",
       "      <td>0:0</td>\n",
       "      <td>16:32</td>\n",
       "      <td>9:15</td>\n",
       "    </tr>\n",
       "    <tr>\n",
       "      <th>2</th>\n",
       "      <td>3</td>\n",
       "      <td>Как сообщил \"Ъ\" глава пресс-службы башкирского...</td>\n",
       "      <td>Муртаза Рахимов</td>\n",
       "      <td>главы своей администрации</td>\n",
       "      <td>отставке</td>\n",
       "      <td>NEG</td>\n",
       "      <td>83:98</td>\n",
       "      <td>125:150</td>\n",
       "      <td>116:124</td>\n",
       "    </tr>\n",
       "    <tr>\n",
       "      <th>3</th>\n",
       "      <td>5</td>\n",
       "      <td>Этому назначению предшествовал громкий скандал...</td>\n",
       "      <td>NULL</td>\n",
       "      <td>Радия Хабирова</td>\n",
       "      <td>громкий скандал</td>\n",
       "      <td>NEG</td>\n",
       "      <td>0:0</td>\n",
       "      <td>109:123</td>\n",
       "      <td>31:46</td>\n",
       "    </tr>\n",
       "    <tr>\n",
       "      <th>4</th>\n",
       "      <td>6</td>\n",
       "      <td>Год назад в защиту опального башкирского чинов...</td>\n",
       "      <td>Единая Россия</td>\n",
       "      <td>Хабирова</td>\n",
       "      <td>защиту</td>\n",
       "      <td>POS</td>\n",
       "      <td>70:83</td>\n",
       "      <td>111:119</td>\n",
       "      <td>12:18</td>\n",
       "    </tr>\n",
       "    <tr>\n",
       "      <th>...</th>\n",
       "      <td>...</td>\n",
       "      <td>...</td>\n",
       "      <td>...</td>\n",
       "      <td>...</td>\n",
       "      <td>...</td>\n",
       "      <td>...</td>\n",
       "      <td>...</td>\n",
       "      <td>...</td>\n",
       "      <td>...</td>\n",
       "    </tr>\n",
       "    <tr>\n",
       "      <th>2899</th>\n",
       "      <td>2553</td>\n",
       "      <td>По его словам, он весьма тронут тёплым приёмом...</td>\n",
       "      <td>NULL</td>\n",
       "      <td>медиков</td>\n",
       "      <td>профессиональной помощью</td>\n",
       "      <td>POS</td>\n",
       "      <td>0:0</td>\n",
       "      <td>84:91</td>\n",
       "      <td>49:73</td>\n",
       "    </tr>\n",
       "    <tr>\n",
       "      <th>2900</th>\n",
       "      <td>2554</td>\n",
       "      <td>Пациент отметил, что здравоохранение Джибути н...</td>\n",
       "      <td>NULL</td>\n",
       "      <td>Джибути</td>\n",
       "      <td>на низком уровне</td>\n",
       "      <td>NEG</td>\n",
       "      <td>0:0</td>\n",
       "      <td>37:44</td>\n",
       "      <td>55:71</td>\n",
       "    </tr>\n",
       "    <tr>\n",
       "      <th>2901</th>\n",
       "      <td>2555</td>\n",
       "      <td>Кроме того, военные обеих стран проведут совме...</td>\n",
       "      <td>Гуан Байлин</td>\n",
       "      <td>Джибути</td>\n",
       "      <td>укрепления дружбы</td>\n",
       "      <td>POS</td>\n",
       "      <td>103:114</td>\n",
       "      <td>139:146</td>\n",
       "      <td>68:85</td>\n",
       "    </tr>\n",
       "    <tr>\n",
       "      <th>2902</th>\n",
       "      <td>2555</td>\n",
       "      <td>Кроме того, военные обеих стран проведут совме...</td>\n",
       "      <td>Джибути</td>\n",
       "      <td>Гуан Байлин</td>\n",
       "      <td>укрепления дружбы</td>\n",
       "      <td>POS</td>\n",
       "      <td>139:146</td>\n",
       "      <td>103:114</td>\n",
       "      <td>68:85</td>\n",
       "    </tr>\n",
       "    <tr>\n",
       "      <th>2903</th>\n",
       "      <td>2555</td>\n",
       "      <td>Кроме того, военные обеих стран проведут совме...</td>\n",
       "      <td>NULL</td>\n",
       "      <td>военные</td>\n",
       "      <td>укрепления дружбы</td>\n",
       "      <td>POS</td>\n",
       "      <td>0:0</td>\n",
       "      <td>12:19</td>\n",
       "      <td>68:85</td>\n",
       "    </tr>\n",
       "  </tbody>\n",
       "</table>\n",
       "<p>2904 rows × 9 columns</p>\n",
       "</div>"
      ],
      "text/plain": [
       "      sent_id                                               text  \\\n",
       "0           0  Президент Башкирии Муртаза Рахимов в очередной...   \n",
       "1           1  Вчера он уволил Азамата Сагитова, который возг...   \n",
       "2           3  Как сообщил \"Ъ\" глава пресс-службы башкирского...   \n",
       "3           5  Этому назначению предшествовал громкий скандал...   \n",
       "4           6  Год назад в защиту опального башкирского чинов...   \n",
       "...       ...                                                ...   \n",
       "2899     2553  По его словам, он весьма тронут тёплым приёмом...   \n",
       "2900     2554  Пациент отметил, что здравоохранение Джибути н...   \n",
       "2901     2555  Кроме того, военные обеих стран проведут совме...   \n",
       "2902     2555  Кроме того, военные обеих стран проведут совме...   \n",
       "2903     2555  Кроме того, военные обеих стран проведут совме...   \n",
       "\n",
       "                    s                          t                         e  \\\n",
       "0     Муртаза Рахимов  главу своей администрации                  поменять   \n",
       "1                NULL           Азамата Сагитова                    уволил   \n",
       "2     Муртаза Рахимов  главы своей администрации                  отставке   \n",
       "3                NULL             Радия Хабирова           громкий скандал   \n",
       "4       Единая Россия                   Хабирова                    защиту   \n",
       "...               ...                        ...                       ...   \n",
       "2899             NULL                    медиков  профессиональной помощью   \n",
       "2900             NULL                    Джибути          на низком уровне   \n",
       "2901      Гуан Байлин                    Джибути         укрепления дружбы   \n",
       "2902          Джибути                Гуан Байлин         укрепления дружбы   \n",
       "2903             NULL                    военные         укрепления дружбы   \n",
       "\n",
       "        p   s_span   t_span   e_span  \n",
       "0     NEG    19:34    66:91    57:65  \n",
       "1     NEG      0:0    16:32     9:15  \n",
       "2     NEG    83:98  125:150  116:124  \n",
       "3     NEG      0:0  109:123    31:46  \n",
       "4     POS    70:83  111:119    12:18  \n",
       "...   ...      ...      ...      ...  \n",
       "2899  POS      0:0    84:91    49:73  \n",
       "2900  NEG      0:0    37:44    55:71  \n",
       "2901  POS  103:114  139:146    68:85  \n",
       "2902  POS  139:146  103:114    68:85  \n",
       "2903  POS      0:0    12:19    68:85  \n",
       "\n",
       "[2904 rows x 9 columns]"
      ]
     },
     "execution_count": 6,
     "metadata": {},
     "output_type": "execute_result"
    }
   ],
   "source": [
    "cols = ['sent_id', 'text', 's', 't', 'e', 'p', 's_span', 't_span', 'e_span']\n",
    "df = pd.DataFrame(opinions, columns = cols)\n",
    "df"
   ]
  },
  {
   "cell_type": "code",
   "execution_count": 7,
   "id": "2d02b717",
   "metadata": {},
   "outputs": [],
   "source": [
    "assert len(df) == len(df.dropna())"
   ]
  },
  {
   "cell_type": "markdown",
   "id": "c3524929",
   "metadata": {},
   "source": [
    "## Аналитика ##"
   ]
  },
  {
   "cell_type": "markdown",
   "id": "ede24eeb",
   "metadata": {},
   "source": [
    "Распределение классов:"
   ]
  },
  {
   "cell_type": "code",
   "execution_count": 8,
   "id": "f1b9b28a",
   "metadata": {},
   "outputs": [
    {
     "data": {
      "text/plain": [
       "p\n",
       "NEG    1730\n",
       "POS    1174\n",
       "Name: count, dtype: int64"
      ]
     },
     "execution_count": 8,
     "metadata": {},
     "output_type": "execute_result"
    }
   ],
   "source": [
    "df['p'].value_counts()"
   ]
  },
  {
   "cell_type": "code",
   "execution_count": 9,
   "id": "cc772097",
   "metadata": {},
   "outputs": [
    {
     "data": {
      "text/plain": [
       "<Axes: xlabel='p'>"
      ]
     },
     "execution_count": 9,
     "metadata": {},
     "output_type": "execute_result"
    },
    {
     "data": {
      "image/png": "[encoded data removed]",
      "text/plain": [
       "<Figure size 600x300 with 1 Axes>"
      ]
     },
     "metadata": {},
     "output_type": "display_data"
    }
   ],
   "source": [
    "plt.figure(figsize = (6,3))\n",
    "df['p'].value_counts().plot.bar()"
   ]
  },
  {
   "cell_type": "markdown",
   "id": "d479d1fb",
   "metadata": {},
   "source": [
    "Число текстов, состоящих из более чем одного предложения:"
   ]
  },
  {
   "cell_type": "code",
   "execution_count": 10,
   "id": "18223283",
   "metadata": {},
   "outputs": [
    {
     "name": "stdout",
     "output_type": "stream",
     "text": [
      "85\n"
     ]
    }
   ],
   "source": [
    "count = 0\n",
    "for elem in data:\n",
    "    text = elem['text']\n",
    "    if '\\n' in text or '.' in text[:-1]:\n",
    "        count+=1\n",
    "print(count)"
   ]
  },
  {
   "cell_type": "markdown",
   "id": "c04b3382",
   "metadata": {},
   "source": [
    "Число текстов с множественными мнениями:"
   ]
  },
  {
   "cell_type": "code",
   "execution_count": 11,
   "id": "cd33f895",
   "metadata": {},
   "outputs": [
    {
     "data": {
      "text/plain": [
       "Counter({1: 769,\n",
       "         2: 391,\n",
       "         3: 169,\n",
       "         4: 90,\n",
       "         5: 37,\n",
       "         6: 14,\n",
       "         7: 12,\n",
       "         8: 4,\n",
       "         12: 2,\n",
       "         10: 2,\n",
       "         23: 1,\n",
       "         14: 1,\n",
       "         11: 1,\n",
       "         9: 1})"
      ]
     },
     "execution_count": 11,
     "metadata": {},
     "output_type": "execute_result"
    }
   ],
   "source": [
    "textcount = Counter(df['text'].value_counts())\n",
    "textcount"
   ]
  },
  {
   "cell_type": "code",
   "execution_count": 12,
   "id": "f4210c31",
   "metadata": {},
   "outputs": [
    {
     "data": {
      "text/plain": [
       "<BarContainer object of 14 artists>"
      ]
     },
     "execution_count": 12,
     "metadata": {},
     "output_type": "execute_result"
    },
    {
     "data": {
      "image/png": "[encoded data removed]",
      "text/plain": [
       "<Figure size 600x300 with 1 Axes>"
      ]
     },
     "metadata": {},
     "output_type": "display_data"
    }
   ],
   "source": [
    "plt.figure(figsize = (6,3))\n",
    "plt.bar(textcount.keys(), textcount.values())"
   ]
  },
  {
   "cell_type": "markdown",
   "id": "ea68f272",
   "metadata": {},
   "source": [
    "Число текстов с более чем одним мнением:"
   ]
  },
  {
   "cell_type": "code",
   "execution_count": 13,
   "id": "5ed912aa",
   "metadata": {},
   "outputs": [
    {
     "data": {
      "text/plain": [
       "725"
      ]
     },
     "execution_count": 13,
     "metadata": {},
     "output_type": "execute_result"
    }
   ],
   "source": [
    "sum(textcount.values())-textcount[1]"
   ]
  },
  {
   "cell_type": "markdown",
   "id": "b3669605",
   "metadata": {},
   "source": [
    "Максимальная и средняя длина, source/holder, target, expression:"
   ]
  },
  {
   "cell_type": "code",
   "execution_count": 14,
   "id": "3352bfca",
   "metadata": {},
   "outputs": [
    {
     "name": "stdout",
     "output_type": "stream",
     "text": [
      "Максимальная длина: 7\n",
      "Средняя длина: 1.372\n"
     ]
    }
   ],
   "source": [
    "sources = list()\n",
    "for item in df['s']:\n",
    "    if isinstance(item, str):\n",
    "        sources.append(item)\n",
    "    else:\n",
    "        sources+=item\n",
    "max_s = max([len(x.split()) for x in sources])\n",
    "mean_s = sum([len(x.split()) for x in sources])/len(sources)\n",
    "print(f'Максимальная длина: {max_s}')\n",
    "print(f'Средняя длина: {mean_s:.3f}')"
   ]
  },
  {
   "cell_type": "code",
   "execution_count": 15,
   "id": "4cfd8cbd",
   "metadata": {},
   "outputs": [
    {
     "name": "stdout",
     "output_type": "stream",
     "text": [
      "Самый длиный source:\n",
      "Революционные вооружённые силы Колумбии — Армия народа\n",
      "Самый длиный source:\n",
      "мировой судебный участок 363 Хамовнического района Москвы\n"
     ]
    }
   ],
   "source": [
    "for item in df['s']:\n",
    "    if isinstance(item, str) and len(item.split()) == max_s:\n",
    "        print(f'Самый длиный source:\\n{item}')"
   ]
  },
  {
   "cell_type": "code",
   "execution_count": 16,
   "id": "d8f82806",
   "metadata": {},
   "outputs": [
    {
     "name": "stdout",
     "output_type": "stream",
     "text": [
      "Максимальная длина: 12\n",
      "Средняя длина: 1.499\n"
     ]
    }
   ],
   "source": [
    "targets = list()\n",
    "for item in df['t']:\n",
    "    if isinstance(item, str):\n",
    "        targets.append(item)\n",
    "    else:\n",
    "        targets+=item\n",
    "max_t = max([len(x.split()) for x in targets])\n",
    "mean_t = sum([len(x.split()) for x in targets])/len(targets)\n",
    "print(f'Максимальная длина: {max_t}')\n",
    "print(f'Средняя длина: {mean_t:.3f}')"
   ]
  },
  {
   "cell_type": "code",
   "execution_count": 17,
   "id": "f0d1b5d5",
   "metadata": {},
   "outputs": [
    {
     "name": "stdout",
     "output_type": "stream",
     "text": [
      "Самый длиный target:\n",
      "Акционерным коммерческим банком содействия благотворительности и духовному развитию Отечества ПЕРЕСВЕТ Акционерное общество\n"
     ]
    }
   ],
   "source": [
    "for item in df['t']:\n",
    "    if isinstance(item, str) and len(item.split()) == max_t:\n",
    "        print(f'Самый длиный target:\\n{item}')"
   ]
  },
  {
   "cell_type": "code",
   "execution_count": 18,
   "id": "d2fe703c",
   "metadata": {},
   "outputs": [
    {
     "name": "stdout",
     "output_type": "stream",
     "text": [
      "Максимальная длина: 18\n",
      "Средняя длина: 2.562\n"
     ]
    }
   ],
   "source": [
    "expressions = list()\n",
    "for item in df['e']:\n",
    "    if isinstance(item, str):\n",
    "        expressions.append(item)\n",
    "    else:\n",
    "        expressions+=item\n",
    "max_e = max([len(x.split()) for x in expressions])\n",
    "mean_e = sum([len(x.split()) for x in expressions])/len(expressions)\n",
    "print(f'Максимальная длина: {max_e}')\n",
    "print(f'Средняя длина: {mean_e:.3f}')"
   ]
  },
  {
   "cell_type": "code",
   "execution_count": 19,
   "id": "964162ab",
   "metadata": {},
   "outputs": [
    {
     "name": "stdout",
     "output_type": "stream",
     "text": [
      "Самая длиная expression:\n",
      "заговоре с целью организации взрывов в нью-йоркском метро и совершения терактов в городах Великобритании и других европейских стран\n"
     ]
    }
   ],
   "source": [
    "for item in df['e']:\n",
    "    if isinstance(item, str) and len(item.split()) == max_e:\n",
    "        print(f'Самая длиная expression:\\n{item}')"
   ]
  },
  {
   "cell_type": "markdown",
   "id": "00562e07",
   "metadata": {},
   "source": [
    "Самые частые sources:"
   ]
  },
  {
   "cell_type": "code",
   "execution_count": 20,
   "id": "8f3dbd2e",
   "metadata": {},
   "outputs": [
    {
     "data": {
      "text/plain": [
       "s\n",
       "NULL              897\n",
       "AUTHOR            384\n",
       "США                28\n",
       "Трамп              15\n",
       "Владимир Путин     14\n",
       "                 ... \n",
       "Эрик                1\n",
       "Time                1\n",
       "Гарсии              1\n",
       "Гарсия              1\n",
       "Джибути             1\n",
       "Name: count, Length: 910, dtype: int64"
      ]
     },
     "execution_count": 20,
     "metadata": {},
     "output_type": "execute_result"
    }
   ],
   "source": [
    "df['s'].value_counts()"
   ]
  },
  {
   "cell_type": "code",
   "execution_count": 21,
   "id": "f877a867",
   "metadata": {},
   "outputs": [
    {
     "data": {
      "text/plain": [
       "2904"
      ]
     },
     "execution_count": 21,
     "metadata": {},
     "output_type": "execute_result"
    }
   ],
   "source": [
    "df['s'].value_counts().sum()"
   ]
  },
  {
   "cell_type": "markdown",
   "id": "623a6191",
   "metadata": {},
   "source": [
    "Разрывные/множественные source, target, expression:"
   ]
  },
  {
   "cell_type": "code",
   "execution_count": 22,
   "id": "fcbc7c3c",
   "metadata": {},
   "outputs": [
    {
     "name": "stdout",
     "output_type": "stream",
     "text": [
      "Multiple/split source: 0\n",
      "Multiple/split target: 4\n",
      "Multiple/split expressions: 19\n"
     ]
    }
   ],
   "source": [
    "s, t, e = 0, 0, 0\n",
    "for i, row in df.iterrows():\n",
    "    if isinstance(row['s'], list):\n",
    "        s+=1\n",
    "    if isinstance(row['t'], list):\n",
    "        t+=1\n",
    "    if isinstance(row['e'], list):\n",
    "        e+=1\n",
    "\n",
    "print(f'Multiple/split source: {s}')\n",
    "print(f'Multiple/split target: {t}')\n",
    "print(f'Multiple/split expressions: {e}')"
   ]
  },
  {
   "cell_type": "markdown",
   "id": "443b1238",
   "metadata": {},
   "source": [
    "Примеры:"
   ]
  },
  {
   "cell_type": "code",
   "execution_count": 23,
   "id": "066f674e",
   "metadata": {},
   "outputs": [
    {
     "name": "stdout",
     "output_type": "stream",
     "text": [
      "['снял', 'ограничения на реализацию']\n",
      "['28:32', '125:150']\n",
      "['понизило', 'рейтинг']\n",
      "['102:110', '134:141']\n",
      "['крупные заемщики', 'имеют некоторые признаки аффилированности друг с другом либо с акционерами или менеджментом банка']\n",
      "['94:110', '124:221']\n",
      "['выпускники', 'становятся участниками ДТП']\n",
      "['132:142', '196:222']\n",
      "['имеет', 'необходимую поддержку']\n",
      "['26:31', '48:69']\n",
      "['имеет', 'необходимую поддержку']\n",
      "['26:31', '48:69']\n",
      "['На пост', 'готовят']\n",
      "['0:7', '63:70']\n",
      "['В Словакию', 'отправиться']\n",
      "['0:10', '37:48']\n",
      "['разрушившим', 'экономику']\n",
      "['177:188', '211:220']\n",
      "['контакты', 'приостановлены']\n",
      "['30:38', '56:70']\n",
      "['стала', 'донором']\n",
      "['101:106', '110:117']\n",
      "['Ситуация', 'остаётся нестабильной']\n",
      "['0:8', '23:44']\n",
      "['Желаю', 'здоровья']\n",
      "['306:311', '333:341']\n",
      "['играл', 'за']\n",
      "['32:37', '51:53']\n",
      "['лишить', 'мандата']\n",
      "['171:177', '189:196']\n",
      "['выиграл', 'чемпионский титул']\n",
      "['29:36', '49:66']\n",
      "['причастности', 'к убийству']\n",
      "['59:71', '79:89']\n",
      "['устраивали праздничные мероприятия', 'после смерти баронессы']\n",
      "['23:57', '98:120']\n",
      "['не все', 'солидарны']\n",
      "['7:13', '32:41']\n"
     ]
    }
   ],
   "source": [
    "for i, row in df.iterrows():\n",
    "    if isinstance(row['e'], list):\n",
    "        print(row['e'], row['e_span'], sep = '\\n')"
   ]
  },
  {
   "cell_type": "markdown",
   "id": "841c5f6a",
   "metadata": {},
   "source": [
    "Миинимальная, максимальная, средняя длина текста"
   ]
  },
  {
   "cell_type": "code",
   "execution_count": 24,
   "id": "7be6e18e",
   "metadata": {},
   "outputs": [
    {
     "name": "stdout",
     "output_type": "stream",
     "text": [
      "Минимальная длина текста: 5\n",
      "Максимальная длина текста: 201\n",
      "Средняя длина текста: 18.059\n"
     ]
    }
   ],
   "source": [
    "lens = [len(x['text'].split()) for x in data]\n",
    "\n",
    "max_l, min_l, mean_l = max(lens), min(lens), sum(lens)/len(lens)\n",
    "\n",
    "print(f'Минимальная длина текста: {min_l}')\n",
    "print(f'Максимальная длина текста: {max_l}')\n",
    "print(f'Средняя длина текста: {mean_l:.3f}')"
   ]
  },
  {
   "cell_type": "markdown",
   "id": "72084055",
   "metadata": {},
   "source": [
    "Самый длинный текст"
   ]
  },
  {
   "cell_type": "code",
   "execution_count": 25,
   "id": "5a1e36ff",
   "metadata": {},
   "outputs": [
    {
     "name": "stdout",
     "output_type": "stream",
     "text": [
      "2047\n",
      "Макеенко распространил следующее жёсткое видеообращение к Президенту Украины Виктору Януковичу: Я Владимир Макеенко обращаюсь лично к Вам господин Президент и к руководителям силовых структур События происходящие сегодня в столице Украины это трагедия всего украинского народа Я ответственно сообщаю что готов сделать все возможное для прекращения братоубийства и кровопролития в сердце Украины на Майдане Независимости Человеческая жизнь должна быть высшей ценностью в нашем государстве и ничто не может противоречить этому принципу В подтверждение своих слов я принял решение выйти из рядов Партии регионов и принять личную ответственность за жизнедеятельность города Киева Так сложилась моя судьба что в это тяжелое время на меня возложена огромная ответственность за каждого киевлянина Мы должны руководствоваться только интересами народа это единственный шанс сохранить жизнь людей Никакая власть не стоит человеческих жертв Ни один олигарх не погиб ни один политик не погиб я как руководитель Киевской администрации занимаюсь погребением десятков трупов простых людей Предлагаю каждому народному депутату независимо от партийного билета стать живой цепью между гражданами Украины в форме и гражданами Украины в гражданской одежде ради прекращения боевых действий и кровопролития Моя высшая цель сохранить человеческие жизни украинского Я буду исполнять обязанности председателя Киевской Городской Государственной администрации до тех пор пока мне доверяет народ Украины Другого пути нет\n"
     ]
    }
   ],
   "source": [
    "for elem in data:\n",
    "    if len(elem['text'].split()) == max_l:\n",
    "        print(elem['sent_id'])\n",
    "        print(elem['text'])"
   ]
  },
  {
   "cell_type": "markdown",
   "id": "825120b6",
   "metadata": {},
   "source": [
    "Распределение"
   ]
  },
  {
   "cell_type": "code",
   "execution_count": 26,
   "id": "a6e14ec4",
   "metadata": {},
   "outputs": [
    {
     "data": {
      "text/plain": [
       "<BarContainer object of 64 artists>"
      ]
     },
     "execution_count": 26,
     "metadata": {},
     "output_type": "execute_result"
    },
    {
     "data": {
      "image/png": "[encoded data removed]",
      "text/plain": [
       "<Figure size 600x300 with 1 Axes>"
      ]
     },
     "metadata": {},
     "output_type": "display_data"
    }
   ],
   "source": [
    "len_counts = Counter(lens)\n",
    "plt.figure(figsize = (6,3))\n",
    "plt.bar(len_counts.keys(), len_counts.values())"
   ]
  },
  {
   "cell_type": "markdown",
   "id": "be77ef02",
   "metadata": {},
   "source": [
    "посмотрим на короткие тексты"
   ]
  },
  {
   "cell_type": "code",
   "execution_count": 27,
   "id": "fe283318",
   "metadata": {},
   "outputs": [
    {
     "name": "stdout",
     "output_type": "stream",
     "text": [
      "Фото: Reuters Фото: Reuters Фото: Reuters\n",
      "Нургалиев уволил начальника УВД Томской области\n",
      "Президенту Бразилии Дилме Руссефф грозит импичмент\n",
      "Тилль Линдеманн с огнемётом на сцене.\n",
      "Дизайнеру ИГИЛ предъявлены обвинения в Индии\n",
      "У Хиллари Клинтон диагностировали пневмонию\n",
      "Здоровье Хиллари вызывает всё больше вопросов.\n",
      "Милицию предлагается переименовать в полицию\n",
      "Фёдор Емельяненко в 2012 году\n",
      "Дарио Фо в 1985 году\n",
      "Тогда Рено было 54 года.\n",
      "В Тамбове построят центр ядерной медицины.\n",
      "\"Деньги на оборудование выделило \"Роснано\".\n",
      "Причина затягивания кризиса - президент.\n",
      "Чехия остается страной Центральной Европы.\n",
      "Президент Земан сейчас не левый политик.\n",
      "Дэвид Рокфеллер 24 октября 1953 года\n",
      "Владимир Этуш в 2008 году\n",
      "Владимир Этуш в 1943 году\n",
      "Владимир Путин в Владимир Этуш\n",
      "Об этом сообщается на сайте Кремля.\n",
      "Леннон умер по дороге в больницу.\n",
      "Дональд Трамп помиловал Джо Арпайо\n",
      "Ребёнка доставили в ожоговый центр.\n",
      "Взорвавшийся автомобиль «Тойота Камри» полностью уничтожен.\n",
      "Ли - особо примечательная личность.\n",
      "В Петербурге рухнула крыша гипермаркета\n",
      "Своей вины Лафнер не признал.\n",
      "В Огайо казнён убийца 2 человек\n",
      "Ратко Младич приговорён к пожизненному заключению\n",
      "Младича объявили в международный розыск.\n",
      "Генерал имеет право обжаловать приговор.\n",
      "Следственные дела из архивов ФСБ России\n",
      "Глава МВФ арестован в Нью-Йорке\n",
      "Между тем, глава фонда женат.\n",
      "НХЛ: Стартует финал Кубка Стэнли\n",
      "Россия отвергает обвинения в своей причастности.\n",
      "В Лос-Анжелесе прошло вручение премии «Эмми»\n",
      "Вела церемонию актриса Джейн Линч.\n",
      "Мюррей выслушал вердикт с каменным лицом.\n",
      "Премьер-министр Грузии подал в отставку\n",
      "Об этом сообщила пресс-служба полиции РА.\n",
      "Заявление опубликовано в субботу Белым домом.\n",
      "В Великобритании умерла женщина, отравленная Новичком\n",
      "В их числе два первых вице-спикера.\n",
      "Законодателем стал теннисист Марат Сафин.\n",
      "Суды вообще не хотят ничего слушать!\n",
      "Просто суд отказывается идти им навстречу.\n",
      "Онкологический диагноз президента Аргентины оказался ошибочным\n",
      "Спасибо моей семье, моей жене, маме.\n",
      "Санкт-Петербург, Малая Невка, дом 25.\n",
      "Феодосию Викторовичу Самбуку было 37 лет.\n",
      "Художник Александр Шилов отмечает юбилей\n",
      "В Малави сменился глава государства\n",
      "В больницах Керчи не хватает крови.\n",
      "Playboy Germany называет интервью подлинным\n",
      "Интервью брал Марсель Андерс, музыкальный журналист.\n",
      "СМИ назвали имя лидера \"Октябрьского джамаата\"\n",
      "Следственный комитет ведёт проверку причин аварии.\n",
      "В Венесуэле проходят выборы президента\n",
      "Полицейские во Франции убили страсбургского стрелка\n",
      "Марина Голуб погибла в автомобильной аварии_NOTOC__\n",
      "Харьковчан покатали на воздушном шаре\n",
      "Владимир Путин и Сильвио Берлускони.\n",
      "Умер раненный в Афганистане американский военный\n",
      "Адвокат Мирзаева Алексей Гребенской поддержал гособвинителя.\n",
      "Знаменитого врача сыграет актриса Чулпан Хаматова.\n",
      "А управлять компанией останутся более молодые.\n",
      "Бывший президент Перу застрелился при задержании\n",
      "Однако спасти бывшего президента не смогли.\n",
      "Керри на церемонии не выступал.\n",
      "Штаб-квартира CITIC Pacific в Гонконге\n",
      "В регион потекли китайские поселенцы хань.\n",
      "Брижит Бардо в 1968 году.\n",
      "Брижит Бардо в 2002 году.\n",
      "«Кавказские мажоры» избили журналиста «Коммерсанта»\n",
      "Никакие не патриоты, кавказские мажоры.\n",
      "Сам программист свою вину не признал.\n",
      "Вид на центральную часть города Асунсьон.\n",
      "Полиция обнаружила его спустя 22 часа.\n",
      "Названы лауреаты премии «World Press Photo»\n",
      "В Москве погиб актёр Андрей Панин\n",
      "Данную информацию подтвердили в ГУВД Москвы.\n",
      "Андрей Панин — отец троих детей.\n",
      "Гасан Хитто родился в Дамаске.\n",
      "Пабло Неруда умер через две недели.\n",
      "Николас Мадуро стал президентом Венесуэлы\n",
      "Погиб охотник на крокодилов Стив Ирвин\n",
      "Расследованием этого дела занимается ФБР.\n",
      "Найти Солонника в России не удалось.\n",
      "Наблюдатели оценивают отставку Суркова по-разному.\n",
      "Владислав Сурков и Дмитрий Медведев\n",
      "Владислав Сурков на съезде «Наших»\n",
      "Доподлинное место рождения Владислава Суркова неизвестно.\n",
      "Анджелина Джоли удалила обе груди_NOTOC__\n",
      "Александр Ширвиндт отмечает своё 85-летие\n",
      "Линейный ускоритель электронов для Австралийского синхротрона\n",
      "Джохару Царнаеву предъявлены официальные обвинения\n",
      "Решение суда ожидается в понедельник.\n",
      "Были арестованы лидеры движения «Братья мусульмане».\n",
      "Хакер взломал web-камеру королевы красоты\n",
      "Ли Пэн страдал от онкологического заболевания.\n",
      "Ли Пэн известен как «пекинский мясник».\n",
      "Дадашева госпитализировали с отёком мозга.\n",
      "В Стокгольме вручены Нобелевские премии 2013\n",
      "Карл XVI Густав в 2010 году\n",
      "Сам Альфред Нобель являлся истинным интернационалистом.\n",
      "Смерть произошла в столице — Лиссабоне.\n",
      "Причиной смерти футболиста названа сердечная недостаточность.\n",
      "Наибольшую известность футболист приобрёл в «Бенфике».\n",
      "Народный депутат Украины I, III—VII созывов.\n",
      "Новым премьер-министром Египта назначен Камаль аль-Ганзури\n",
      "Мэр Харькова Геннадий Кернес тяжело ранен\n",
      "Неизвестный выстрелил в спину политику.\n",
      "Врачи констатировали поражение нескольких внутренних органов.\n",
      "Состояние Кернеса оценивается как тяжелое.\n",
      "Стрельба в ФСБ в Москве.\n",
      "Тебя всегда будет не хватать, Кобе.\n",
      "Болельщики встретили это скандированием «Коби».\n",
      "Сама Иссахар отказалась просить Путина.\n",
      "Кирк Дуглас в 1963 году\n",
      "Ушёл из жизни Виктор Васильевич Тихонов\n",
      "Адвокаты лётчицы настаивают, что она невиновна.\n",
      "Артист Патрик Фэрроу был найден мертвым.\n",
      "Умер талантливый музыкант Павел Смеян\n",
      "МОСКВА, 1 авг — РИА Новости.\n",
      "СМИ: Китай расследует деятельность северокорейского банка\n",
      "Карикатура на Ким Чен Ина\n",
      "Выборы в России: лидирует Единая Россия\n",
      "Китайские диссиденты создают аналог WikiLeaks\n",
      "Главными фаворитами турнира считаются бразильянки.\n",
      "Власти Нигера отозвали посла из Катара\n",
      "Словакия может выйти из зоны евро\n",
      "BP ответит за разлив нефти\n"
     ]
    }
   ],
   "source": [
    "for elem in data:\n",
    "    if len(elem['text'].split()) < 7:\n",
    "        print(elem['text'])"
   ]
  },
  {
   "cell_type": "markdown",
   "id": "a9bfb8f9",
   "metadata": {},
   "source": [
    "## Сохраняем ##"
   ]
  },
  {
   "cell_type": "code",
   "execution_count": 28,
   "id": "fb2f666f",
   "metadata": {},
   "outputs": [],
   "source": [
    "df.to_csv('opinions.csv', index = False)"
   ]
  },
  {
   "cell_type": "code",
   "execution_count": 29,
   "id": "63cba1a0",
   "metadata": {},
   "outputs": [
    {
     "data": {
      "text/html": [
       "<div>\n",
       "<style scoped>\n",
       "    .dataframe tbody tr th:only-of-type {\n",
       "        vertical-align: middle;\n",
       "    }\n",
       "\n",
       "    .dataframe tbody tr th {\n",
       "        vertical-align: top;\n",
       "    }\n",
       "\n",
       "    .dataframe thead th {\n",
       "        text-align: right;\n",
       "    }\n",
       "</style>\n",
       "<table border=\"1\" class=\"dataframe\">\n",
       "  <thead>\n",
       "    <tr style=\"text-align: right;\">\n",
       "      <th></th>\n",
       "      <th>sent_id</th>\n",
       "      <th>text</th>\n",
       "      <th>s</th>\n",
       "      <th>t</th>\n",
       "      <th>e</th>\n",
       "      <th>p</th>\n",
       "      <th>s_span</th>\n",
       "      <th>t_span</th>\n",
       "      <th>e_span</th>\n",
       "    </tr>\n",
       "  </thead>\n",
       "  <tbody>\n",
       "    <tr>\n",
       "      <th>0</th>\n",
       "      <td>0</td>\n",
       "      <td>Президент Башкирии Муртаза Рахимов в очередной...</td>\n",
       "      <td>Муртаза Рахимов</td>\n",
       "      <td>главу своей администрации</td>\n",
       "      <td>поменять</td>\n",
       "      <td>NEG</td>\n",
       "      <td>19:34</td>\n",
       "      <td>66:91</td>\n",
       "      <td>57:65</td>\n",
       "    </tr>\n",
       "    <tr>\n",
       "      <th>1</th>\n",
       "      <td>1</td>\n",
       "      <td>Вчера он уволил Азамата Сагитова, который возг...</td>\n",
       "      <td>NULL1</td>\n",
       "      <td>Азамата Сагитова</td>\n",
       "      <td>уволил</td>\n",
       "      <td>NEG</td>\n",
       "      <td>0:0</td>\n",
       "      <td>16:32</td>\n",
       "      <td>9:15</td>\n",
       "    </tr>\n",
       "    <tr>\n",
       "      <th>2</th>\n",
       "      <td>3</td>\n",
       "      <td>Как сообщил \"Ъ\" глава пресс-службы башкирского...</td>\n",
       "      <td>Муртаза Рахимов</td>\n",
       "      <td>главы своей администрации</td>\n",
       "      <td>отставке</td>\n",
       "      <td>NEG</td>\n",
       "      <td>83:98</td>\n",
       "      <td>125:150</td>\n",
       "      <td>116:124</td>\n",
       "    </tr>\n",
       "    <tr>\n",
       "      <th>3</th>\n",
       "      <td>5</td>\n",
       "      <td>Этому назначению предшествовал громкий скандал...</td>\n",
       "      <td>NULL1</td>\n",
       "      <td>Радия Хабирова</td>\n",
       "      <td>громкий скандал</td>\n",
       "      <td>NEG</td>\n",
       "      <td>0:0</td>\n",
       "      <td>109:123</td>\n",
       "      <td>31:46</td>\n",
       "    </tr>\n",
       "    <tr>\n",
       "      <th>4</th>\n",
       "      <td>6</td>\n",
       "      <td>Год назад в защиту опального башкирского чинов...</td>\n",
       "      <td>Единая Россия</td>\n",
       "      <td>Хабирова</td>\n",
       "      <td>защиту</td>\n",
       "      <td>POS</td>\n",
       "      <td>70:83</td>\n",
       "      <td>111:119</td>\n",
       "      <td>12:18</td>\n",
       "    </tr>\n",
       "    <tr>\n",
       "      <th>...</th>\n",
       "      <td>...</td>\n",
       "      <td>...</td>\n",
       "      <td>...</td>\n",
       "      <td>...</td>\n",
       "      <td>...</td>\n",
       "      <td>...</td>\n",
       "      <td>...</td>\n",
       "      <td>...</td>\n",
       "      <td>...</td>\n",
       "    </tr>\n",
       "    <tr>\n",
       "      <th>2899</th>\n",
       "      <td>2553</td>\n",
       "      <td>По его словам, он весьма тронут тёплым приёмом...</td>\n",
       "      <td>NULL1</td>\n",
       "      <td>медиков</td>\n",
       "      <td>профессиональной помощью</td>\n",
       "      <td>POS</td>\n",
       "      <td>0:0</td>\n",
       "      <td>84:91</td>\n",
       "      <td>49:73</td>\n",
       "    </tr>\n",
       "    <tr>\n",
       "      <th>2900</th>\n",
       "      <td>2554</td>\n",
       "      <td>Пациент отметил, что здравоохранение Джибути н...</td>\n",
       "      <td>NULL1</td>\n",
       "      <td>Джибути</td>\n",
       "      <td>на низком уровне</td>\n",
       "      <td>NEG</td>\n",
       "      <td>0:0</td>\n",
       "      <td>37:44</td>\n",
       "      <td>55:71</td>\n",
       "    </tr>\n",
       "    <tr>\n",
       "      <th>2901</th>\n",
       "      <td>2555</td>\n",
       "      <td>Кроме того, военные обеих стран проведут совме...</td>\n",
       "      <td>Гуан Байлин</td>\n",
       "      <td>Джибути</td>\n",
       "      <td>укрепления дружбы</td>\n",
       "      <td>POS</td>\n",
       "      <td>103:114</td>\n",
       "      <td>139:146</td>\n",
       "      <td>68:85</td>\n",
       "    </tr>\n",
       "    <tr>\n",
       "      <th>2902</th>\n",
       "      <td>2555</td>\n",
       "      <td>Кроме того, военные обеих стран проведут совме...</td>\n",
       "      <td>Джибути</td>\n",
       "      <td>Гуан Байлин</td>\n",
       "      <td>укрепления дружбы</td>\n",
       "      <td>POS</td>\n",
       "      <td>139:146</td>\n",
       "      <td>103:114</td>\n",
       "      <td>68:85</td>\n",
       "    </tr>\n",
       "    <tr>\n",
       "      <th>2903</th>\n",
       "      <td>2555</td>\n",
       "      <td>Кроме того, военные обеих стран проведут совме...</td>\n",
       "      <td>NULL1</td>\n",
       "      <td>военные</td>\n",
       "      <td>укрепления дружбы</td>\n",
       "      <td>POS</td>\n",
       "      <td>0:0</td>\n",
       "      <td>12:19</td>\n",
       "      <td>68:85</td>\n",
       "    </tr>\n",
       "  </tbody>\n",
       "</table>\n",
       "<p>2904 rows × 9 columns</p>\n",
       "</div>"
      ],
      "text/plain": [
       "      sent_id                                               text  \\\n",
       "0           0  Президент Башкирии Муртаза Рахимов в очередной...   \n",
       "1           1  Вчера он уволил Азамата Сагитова, который возг...   \n",
       "2           3  Как сообщил \"Ъ\" глава пресс-службы башкирского...   \n",
       "3           5  Этому назначению предшествовал громкий скандал...   \n",
       "4           6  Год назад в защиту опального башкирского чинов...   \n",
       "...       ...                                                ...   \n",
       "2899     2553  По его словам, он весьма тронут тёплым приёмом...   \n",
       "2900     2554  Пациент отметил, что здравоохранение Джибути н...   \n",
       "2901     2555  Кроме того, военные обеих стран проведут совме...   \n",
       "2902     2555  Кроме того, военные обеих стран проведут совме...   \n",
       "2903     2555  Кроме того, военные обеих стран проведут совме...   \n",
       "\n",
       "                    s                          t                         e  \\\n",
       "0     Муртаза Рахимов  главу своей администрации                  поменять   \n",
       "1               NULL1           Азамата Сагитова                    уволил   \n",
       "2     Муртаза Рахимов  главы своей администрации                  отставке   \n",
       "3               NULL1             Радия Хабирова           громкий скандал   \n",
       "4       Единая Россия                   Хабирова                    защиту   \n",
       "...               ...                        ...                       ...   \n",
       "2899            NULL1                    медиков  профессиональной помощью   \n",
       "2900            NULL1                    Джибути          на низком уровне   \n",
       "2901      Гуан Байлин                    Джибути         укрепления дружбы   \n",
       "2902          Джибути                Гуан Байлин         укрепления дружбы   \n",
       "2903            NULL1                    военные         укрепления дружбы   \n",
       "\n",
       "        p   s_span   t_span   e_span  \n",
       "0     NEG    19:34    66:91    57:65  \n",
       "1     NEG      0:0    16:32     9:15  \n",
       "2     NEG    83:98  125:150  116:124  \n",
       "3     NEG      0:0  109:123    31:46  \n",
       "4     POS    70:83  111:119    12:18  \n",
       "...   ...      ...      ...      ...  \n",
       "2899  POS      0:0    84:91    49:73  \n",
       "2900  NEG      0:0    37:44    55:71  \n",
       "2901  POS  103:114  139:146    68:85  \n",
       "2902  POS  139:146  103:114    68:85  \n",
       "2903  POS      0:0    12:19    68:85  \n",
       "\n",
       "[2904 rows x 9 columns]"
      ]
     },
     "execution_count": 29,
     "metadata": {},
     "output_type": "execute_result"
    }
   ],
   "source": [
    "df1 = df.replace('NULL', 'NULL1')\n",
    "df1"
   ]
  },
  {
   "cell_type": "code",
   "execution_count": 30,
   "id": "ba0fe05e",
   "metadata": {},
   "outputs": [],
   "source": [
    "df1.to_csv('opinions1.csv', index = False)"
   ]
  },
  {
   "cell_type": "code",
   "execution_count": 31,
   "id": "21ca85ad",
   "metadata": {},
   "outputs": [
    {
     "data": {
      "text/html": [
       "<div>\n",
       "<style scoped>\n",
       "    .dataframe tbody tr th:only-of-type {\n",
       "        vertical-align: middle;\n",
       "    }\n",
       "\n",
       "    .dataframe tbody tr th {\n",
       "        vertical-align: top;\n",
       "    }\n",
       "\n",
       "    .dataframe thead th {\n",
       "        text-align: right;\n",
       "    }\n",
       "</style>\n",
       "<table border=\"1\" class=\"dataframe\">\n",
       "  <thead>\n",
       "    <tr style=\"text-align: right;\">\n",
       "      <th></th>\n",
       "      <th>sent_id</th>\n",
       "      <th>text</th>\n",
       "      <th>s</th>\n",
       "      <th>t</th>\n",
       "      <th>e</th>\n",
       "      <th>p</th>\n",
       "      <th>s_span</th>\n",
       "      <th>t_span</th>\n",
       "      <th>e_span</th>\n",
       "    </tr>\n",
       "  </thead>\n",
       "  <tbody>\n",
       "    <tr>\n",
       "      <th>0</th>\n",
       "      <td>0</td>\n",
       "      <td>Президент Башкирии Муртаза Рахимов в очередной...</td>\n",
       "      <td>Муртаза Рахимов</td>\n",
       "      <td>главу своей администрации</td>\n",
       "      <td>поменять</td>\n",
       "      <td>NEG</td>\n",
       "      <td>19:34</td>\n",
       "      <td>66:91</td>\n",
       "      <td>57:65</td>\n",
       "    </tr>\n",
       "    <tr>\n",
       "      <th>1</th>\n",
       "      <td>1</td>\n",
       "      <td>Вчера он уволил Азамата Сагитова, который возг...</td>\n",
       "      <td>NaN</td>\n",
       "      <td>Азамата Сагитова</td>\n",
       "      <td>уволил</td>\n",
       "      <td>NEG</td>\n",
       "      <td>0:0</td>\n",
       "      <td>16:32</td>\n",
       "      <td>9:15</td>\n",
       "    </tr>\n",
       "    <tr>\n",
       "      <th>2</th>\n",
       "      <td>3</td>\n",
       "      <td>Как сообщил \"Ъ\" глава пресс-службы башкирского...</td>\n",
       "      <td>Муртаза Рахимов</td>\n",
       "      <td>главы своей администрации</td>\n",
       "      <td>отставке</td>\n",
       "      <td>NEG</td>\n",
       "      <td>83:98</td>\n",
       "      <td>125:150</td>\n",
       "      <td>116:124</td>\n",
       "    </tr>\n",
       "    <tr>\n",
       "      <th>3</th>\n",
       "      <td>5</td>\n",
       "      <td>Этому назначению предшествовал громкий скандал...</td>\n",
       "      <td>NaN</td>\n",
       "      <td>Радия Хабирова</td>\n",
       "      <td>громкий скандал</td>\n",
       "      <td>NEG</td>\n",
       "      <td>0:0</td>\n",
       "      <td>109:123</td>\n",
       "      <td>31:46</td>\n",
       "    </tr>\n",
       "    <tr>\n",
       "      <th>4</th>\n",
       "      <td>6</td>\n",
       "      <td>Год назад в защиту опального башкирского чинов...</td>\n",
       "      <td>Единая Россия</td>\n",
       "      <td>Хабирова</td>\n",
       "      <td>защиту</td>\n",
       "      <td>POS</td>\n",
       "      <td>70:83</td>\n",
       "      <td>111:119</td>\n",
       "      <td>12:18</td>\n",
       "    </tr>\n",
       "  </tbody>\n",
       "</table>\n",
       "</div>"
      ],
      "text/plain": [
       "   sent_id                                               text  \\\n",
       "0        0  Президент Башкирии Муртаза Рахимов в очередной...   \n",
       "1        1  Вчера он уволил Азамата Сагитова, который возг...   \n",
       "2        3  Как сообщил \"Ъ\" глава пресс-службы башкирского...   \n",
       "3        5  Этому назначению предшествовал громкий скандал...   \n",
       "4        6  Год назад в защиту опального башкирского чинов...   \n",
       "\n",
       "                 s                          t                e    p s_span  \\\n",
       "0  Муртаза Рахимов  главу своей администрации         поменять  NEG  19:34   \n",
       "1              NaN           Азамата Сагитова           уволил  NEG    0:0   \n",
       "2  Муртаза Рахимов  главы своей администрации         отставке  NEG  83:98   \n",
       "3              NaN             Радия Хабирова  громкий скандал  NEG    0:0   \n",
       "4    Единая Россия                   Хабирова           защиту  POS  70:83   \n",
       "\n",
       "    t_span   e_span  \n",
       "0    66:91    57:65  \n",
       "1    16:32     9:15  \n",
       "2  125:150  116:124  \n",
       "3  109:123    31:46  \n",
       "4  111:119    12:18  "
      ]
     },
     "execution_count": 31,
     "metadata": {},
     "output_type": "execute_result"
    }
   ],
   "source": [
    "test = pd.read_csv('opinions.csv')\n",
    "test.head()"
   ]
  },
  {
   "cell_type": "code",
   "execution_count": 32,
   "id": "0c55a90c",
   "metadata": {},
   "outputs": [
    {
     "data": {
      "text/html": [
       "<div>\n",
       "<style scoped>\n",
       "    .dataframe tbody tr th:only-of-type {\n",
       "        vertical-align: middle;\n",
       "    }\n",
       "\n",
       "    .dataframe tbody tr th {\n",
       "        vertical-align: top;\n",
       "    }\n",
       "\n",
       "    .dataframe thead th {\n",
       "        text-align: right;\n",
       "    }\n",
       "</style>\n",
       "<table border=\"1\" class=\"dataframe\">\n",
       "  <thead>\n",
       "    <tr style=\"text-align: right;\">\n",
       "      <th></th>\n",
       "      <th>sent_id</th>\n",
       "      <th>text</th>\n",
       "      <th>s</th>\n",
       "      <th>t</th>\n",
       "      <th>e</th>\n",
       "      <th>p</th>\n",
       "      <th>s_span</th>\n",
       "      <th>t_span</th>\n",
       "      <th>e_span</th>\n",
       "    </tr>\n",
       "  </thead>\n",
       "  <tbody>\n",
       "    <tr>\n",
       "      <th>0</th>\n",
       "      <td>0</td>\n",
       "      <td>Президент Башкирии Муртаза Рахимов в очередной...</td>\n",
       "      <td>Муртаза Рахимов</td>\n",
       "      <td>главу своей администрации</td>\n",
       "      <td>поменять</td>\n",
       "      <td>NEG</td>\n",
       "      <td>19:34</td>\n",
       "      <td>66:91</td>\n",
       "      <td>57:65</td>\n",
       "    </tr>\n",
       "    <tr>\n",
       "      <th>1</th>\n",
       "      <td>1</td>\n",
       "      <td>Вчера он уволил Азамата Сагитова, который возг...</td>\n",
       "      <td>NULL1</td>\n",
       "      <td>Азамата Сагитова</td>\n",
       "      <td>уволил</td>\n",
       "      <td>NEG</td>\n",
       "      <td>0:0</td>\n",
       "      <td>16:32</td>\n",
       "      <td>9:15</td>\n",
       "    </tr>\n",
       "    <tr>\n",
       "      <th>2</th>\n",
       "      <td>3</td>\n",
       "      <td>Как сообщил \"Ъ\" глава пресс-службы башкирского...</td>\n",
       "      <td>Муртаза Рахимов</td>\n",
       "      <td>главы своей администрации</td>\n",
       "      <td>отставке</td>\n",
       "      <td>NEG</td>\n",
       "      <td>83:98</td>\n",
       "      <td>125:150</td>\n",
       "      <td>116:124</td>\n",
       "    </tr>\n",
       "    <tr>\n",
       "      <th>3</th>\n",
       "      <td>5</td>\n",
       "      <td>Этому назначению предшествовал громкий скандал...</td>\n",
       "      <td>NULL1</td>\n",
       "      <td>Радия Хабирова</td>\n",
       "      <td>громкий скандал</td>\n",
       "      <td>NEG</td>\n",
       "      <td>0:0</td>\n",
       "      <td>109:123</td>\n",
       "      <td>31:46</td>\n",
       "    </tr>\n",
       "    <tr>\n",
       "      <th>4</th>\n",
       "      <td>6</td>\n",
       "      <td>Год назад в защиту опального башкирского чинов...</td>\n",
       "      <td>Единая Россия</td>\n",
       "      <td>Хабирова</td>\n",
       "      <td>защиту</td>\n",
       "      <td>POS</td>\n",
       "      <td>70:83</td>\n",
       "      <td>111:119</td>\n",
       "      <td>12:18</td>\n",
       "    </tr>\n",
       "  </tbody>\n",
       "</table>\n",
       "</div>"
      ],
      "text/plain": [
       "   sent_id                                               text  \\\n",
       "0        0  Президент Башкирии Муртаза Рахимов в очередной...   \n",
       "1        1  Вчера он уволил Азамата Сагитова, который возг...   \n",
       "2        3  Как сообщил \"Ъ\" глава пресс-службы башкирского...   \n",
       "3        5  Этому назначению предшествовал громкий скандал...   \n",
       "4        6  Год назад в защиту опального башкирского чинов...   \n",
       "\n",
       "                 s                          t                e    p s_span  \\\n",
       "0  Муртаза Рахимов  главу своей администрации         поменять  NEG  19:34   \n",
       "1            NULL1           Азамата Сагитова           уволил  NEG    0:0   \n",
       "2  Муртаза Рахимов  главы своей администрации         отставке  NEG  83:98   \n",
       "3            NULL1             Радия Хабирова  громкий скандал  NEG    0:0   \n",
       "4    Единая Россия                   Хабирова           защиту  POS  70:83   \n",
       "\n",
       "    t_span   e_span  \n",
       "0    66:91    57:65  \n",
       "1    16:32     9:15  \n",
       "2  125:150  116:124  \n",
       "3  109:123    31:46  \n",
       "4  111:119    12:18  "
      ]
     },
     "execution_count": 32,
     "metadata": {},
     "output_type": "execute_result"
    }
   ],
   "source": [
    "test1 = pd.read_csv('opinions1.csv')\n",
    "test1.head()"
   ]
  },
  {
   "cell_type": "code",
   "execution_count": 33,
   "id": "7f70da74",
   "metadata": {},
   "outputs": [
    {
     "data": {
      "text/plain": [
       "(1623, 2904)"
      ]
     },
     "execution_count": 33,
     "metadata": {},
     "output_type": "execute_result"
    }
   ],
   "source": [
    "len(test.dropna()), len(test1.dropna())"
   ]
  }
 ],
 "metadata": {
  "kernelspec": {
   "display_name": "Python 3 (ipykernel)",
   "language": "python",
   "name": "python3"
  },
  "language_info": {
   "codemirror_mode": {
    "name": "ipython",
    "version": 3
   },
   "file_extension": ".py",
   "mimetype": "text/x-python",
   "name": "python",
   "nbconvert_exporter": "python",
   "pygments_lexer": "ipython3",
   "version": "3.11.5"
  }
 },
 "nbformat": 4,
 "nbformat_minor": 5
}
